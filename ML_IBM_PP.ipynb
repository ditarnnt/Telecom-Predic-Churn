{
  "nbformat": 4,
  "nbformat_minor": 0,
  "metadata": {
    "colab": {
      "name": "ML_IBM_PP",
      "provenance": [],
      "collapsed_sections": [],
      "include_colab_link": true
    },
    "kernelspec": {
      "name": "python3",
      "display_name": "Python 3"
    },
    "language_info": {
      "name": "python"
    }
  },
  "cells": [
    {
      "cell_type": "markdown",
      "metadata": {
        "id": "view-in-github",
        "colab_type": "text"
      },
      "source": [
        "<a href=\"https://colab.research.google.com/github/ditarnnt/Telecom-Predic-Churn/blob/main/ML_IBM_PP.ipynb\" target=\"_parent\"><img src=\"https://colab.research.google.com/assets/colab-badge.svg\" alt=\"Open In Colab\"/></a>"
      ]
    },
    {
      "cell_type": "markdown",
      "metadata": {
        "id": "5517RtXmdole"
      },
      "source": [
        "# Starting steps"
      ]
    },
    {
      "cell_type": "markdown",
      "metadata": {
        "id": "FxtUq1hi2U9r"
      },
      "source": [
        "Training: Run all\n",
        "\n",
        "Evaluating: Run dari awal sampai feature selection, lalu run 'Evaluation'"
      ]
    },
    {
      "cell_type": "code",
      "metadata": {
        "id": "etZ-5vqoE5y3",
        "colab": {
          "base_uri": "https://localhost:8080/"
        },
        "outputId": "97f0734e-87b2-402f-c7d8-1b84307e2b60"
      },
      "source": [
        "from google.colab import drive\n",
        "import pandas as pd #pandas\n",
        "import numpy as np #numpy\n",
        "import re\n",
        "from sklearn.preprocessing import LabelEncoder, OneHotEncoder #encoding data kategorikal\n",
        "from sklearn.preprocessing import StandardScaler #standardization\n",
        "from sklearn.model_selection import train_test_split #train test split\n",
        "from sklearn.ensemble import RandomForestClassifier\n",
        "import time\n",
        "import pickle\n",
        "\n",
        "\n",
        "!pip install ipython-autotime\n",
        "%load_ext autotime\n",
        "\n",
        "rand_state = 101 #hyperparameter search argument\n",
        "niter = 125 #hyperparameter search argument\n",
        "kfold = 3 #hyperparameter search argument"
      ],
      "execution_count": null,
      "outputs": [
        {
          "output_type": "stream",
          "text": [
            "Requirement already satisfied: ipython-autotime in /usr/local/lib/python3.7/dist-packages (0.3.1)\n",
            "Requirement already satisfied: ipython in /usr/local/lib/python3.7/dist-packages (from ipython-autotime) (5.5.0)\n",
            "Requirement already satisfied: pygments in /usr/local/lib/python3.7/dist-packages (from ipython->ipython-autotime) (2.6.1)\n",
            "Requirement already satisfied: traitlets>=4.2 in /usr/local/lib/python3.7/dist-packages (from ipython->ipython-autotime) (5.0.5)\n",
            "Requirement already satisfied: setuptools>=18.5 in /usr/local/lib/python3.7/dist-packages (from ipython->ipython-autotime) (56.1.0)\n",
            "Requirement already satisfied: decorator in /usr/local/lib/python3.7/dist-packages (from ipython->ipython-autotime) (4.4.2)\n",
            "Requirement already satisfied: pexpect; sys_platform != \"win32\" in /usr/local/lib/python3.7/dist-packages (from ipython->ipython-autotime) (4.8.0)\n",
            "Requirement already satisfied: prompt-toolkit<2.0.0,>=1.0.4 in /usr/local/lib/python3.7/dist-packages (from ipython->ipython-autotime) (1.0.18)\n",
            "Requirement already satisfied: simplegeneric>0.8 in /usr/local/lib/python3.7/dist-packages (from ipython->ipython-autotime) (0.8.1)\n",
            "Requirement already satisfied: pickleshare in /usr/local/lib/python3.7/dist-packages (from ipython->ipython-autotime) (0.7.5)\n",
            "Requirement already satisfied: ipython-genutils in /usr/local/lib/python3.7/dist-packages (from traitlets>=4.2->ipython->ipython-autotime) (0.2.0)\n",
            "Requirement already satisfied: ptyprocess>=0.5 in /usr/local/lib/python3.7/dist-packages (from pexpect; sys_platform != \"win32\"->ipython->ipython-autotime) (0.7.0)\n",
            "Requirement already satisfied: wcwidth in /usr/local/lib/python3.7/dist-packages (from prompt-toolkit<2.0.0,>=1.0.4->ipython->ipython-autotime) (0.2.5)\n",
            "Requirement already satisfied: six>=1.9.0 in /usr/local/lib/python3.7/dist-packages (from prompt-toolkit<2.0.0,>=1.0.4->ipython->ipython-autotime) (1.15.0)\n",
            "time: 3.99 ms (started: 2021-05-11 10:49:12 +00:00)\n"
          ],
          "name": "stdout"
        }
      ]
    },
    {
      "cell_type": "code",
      "metadata": {
        "colab": {
          "base_uri": "https://localhost:8080/"
        },
        "id": "VXxZhEaoTlIT",
        "outputId": "cd3124a3-4b47-414d-c8ea-f3e5bfcb3231"
      },
      "source": [
        "from google.colab import drive\n",
        "drive.mount('/content/drive')"
      ],
      "execution_count": null,
      "outputs": [
        {
          "output_type": "stream",
          "text": [
            "Drive already mounted at /content/drive; to attempt to forcibly remount, call drive.mount(\"/content/drive\", force_remount=True).\n",
            "time: 5.11 ms (started: 2021-05-11 10:49:12 +00:00)\n"
          ],
          "name": "stdout"
        }
      ]
    },
    {
      "cell_type": "code",
      "metadata": {
        "colab": {
          "base_uri": "https://localhost:8080/"
        },
        "id": "mjPm9jnKFcdW",
        "outputId": "32fbd196-1f7c-4c07-945d-b939181efa3f"
      },
      "source": [
        "dataset = pd.read_csv('/content/drive/MyDrive/TubesAI_folder/Dataset/IBM_pp.csv')  \n",
        "print (dataset)"
      ],
      "execution_count": null,
      "outputs": [
        {
          "output_type": "stream",
          "text": [
            "      tenure  MonthlyCharges  ...  PaymentMethod_Mailed check  Churn\n",
            "0          1           29.85  ...                           0      0\n",
            "1         34           56.95  ...                           1      0\n",
            "2          2           53.85  ...                           1      1\n",
            "3         45           42.30  ...                           0      0\n",
            "4          2           70.70  ...                           0      1\n",
            "...      ...             ...  ...                         ...    ...\n",
            "7027      24           84.80  ...                           1      0\n",
            "7028      72          103.20  ...                           0      0\n",
            "7029      11           29.60  ...                           0      0\n",
            "7030       4           74.40  ...                           1      1\n",
            "7031      66          105.65  ...                           0      0\n",
            "\n",
            "[7032 rows x 47 columns]\n",
            "time: 91.4 ms (started: 2021-05-11 10:49:12 +00:00)\n"
          ],
          "name": "stdout"
        }
      ]
    },
    {
      "cell_type": "code",
      "metadata": {
        "id": "E1dIFiGaAElo",
        "colab": {
          "base_uri": "https://localhost:8080/"
        },
        "outputId": "66fa4f69-a9f0-44b8-d141-707d8aecb56c"
      },
      "source": [
        "#Definisi fungsi untuk menyeleksi fitur\n",
        "def select_features(df,selected_features):\n",
        "  '''\n",
        "  Fungsi untuk memilih fitur pada dataset.\n",
        "  Menggunakan RegEx untuk seleksi fitur yang di-encode secara OneHot Encoding.\n",
        "  Ketentuan seleksi fitur OneHotEncoding: Fitur harus punya prefix yang sesuai dengan nama fitur.\n",
        "  Argumen:\n",
        "  df - dataset yang akan diseleksi fitur-fiturnya\n",
        "  selected_features - list berisi fitur-fitur yang akan dipilih\n",
        "  Output:\n",
        "  df_out - dataset yang berisi fitur-fitur pada selected_features.\n",
        "  '''\n",
        "  df_out = pd.DataFrame(index=df.index.tolist())\n",
        "  cols = []\n",
        "  for feature in selected_features:\n",
        "    r = re.compile(feature) # Read Note\n",
        "    cols = cols + list(filter(r.match,df.columns.tolist()))\n",
        "  df_out = df[cols]\n",
        "  return df_out"
      ],
      "execution_count": null,
      "outputs": [
        {
          "output_type": "stream",
          "text": [
            "time: 8.29 ms (started: 2021-05-11 10:49:13 +00:00)\n"
          ],
          "name": "stdout"
        }
      ]
    },
    {
      "cell_type": "code",
      "metadata": {
        "colab": {
          "base_uri": "https://localhost:8080/",
          "height": 105
        },
        "id": "69DX7oC4E3NR",
        "outputId": "2adbd4b5-bb3d-4c62-e4aa-688286bb3b68"
      },
      "source": [
        "'''\n",
        "#List information gain untuk setiap fitur\n",
        " 0.141647   17 Contract\n",
        " 0.1095481   1 tenure\n",
        " 0.0930946  11 OnlineSecurity\n",
        " 0.0907063  14 TechSupport\n",
        " 0.0799162  10 InternetService\n",
        " 0.0673147  12 OnlineBackup\n",
        " 0.0640887  19 PaymentMethod\n",
        " 0.0631674  13 DeviceProtection\n",
        " 0.0624243   2 MonthlyCharges\n",
        " 0.0543669   3 TotalCharges\n",
        " 0.0460485  16 StreamingMovies\n",
        " 0.0458814  15 StreamingTV\n",
        " 0.0275833  18 PaperlessBilling\n",
        " 0.0205877   7 Dependents\n",
        " 0.0164224   6 Partner\n",
        " 0.0151954   5 SeniorCitizen\n",
        " 0.0011518   9 MultipleLines\n",
        " 0.0000998   8 PhoneService\n",
        " 0.0000527   4 gender\n",
        "'''"
      ],
      "execution_count": null,
      "outputs": [
        {
          "output_type": "execute_result",
          "data": {
            "application/vnd.google.colaboratory.intrinsic+json": {
              "type": "string"
            },
            "text/plain": [
              "'\\n#List information gain untuk setiap fitur\\n 0.141647   17 Contract\\n 0.1095481   1 tenure\\n 0.0930946  11 OnlineSecurity\\n 0.0907063  14 TechSupport\\n 0.0799162  10 InternetService\\n 0.0673147  12 OnlineBackup\\n 0.0640887  19 PaymentMethod\\n 0.0631674  13 DeviceProtection\\n 0.0624243   2 MonthlyCharges\\n 0.0543669   3 TotalCharges\\n 0.0460485  16 StreamingMovies\\n 0.0458814  15 StreamingTV\\n 0.0275833  18 PaperlessBilling\\n 0.0205877   7 Dependents\\n 0.0164224   6 Partner\\n 0.0151954   5 SeniorCitizen\\n 0.0011518   9 MultipleLines\\n 0.0000998   8 PhoneService\\n 0.0000527   4 gender\\n'"
            ]
          },
          "metadata": {
            "tags": []
          },
          "execution_count": 5
        },
        {
          "output_type": "stream",
          "text": [
            "time: 7.11 ms (started: 2021-05-11 10:49:13 +00:00)\n"
          ],
          "name": "stdout"
        }
      ]
    },
    {
      "cell_type": "code",
      "metadata": {
        "id": "HNFHPxOkFhbI",
        "colab": {
          "base_uri": "https://localhost:8080/"
        },
        "outputId": "9ab10bf8-1fd8-4e58-df7c-6beb8dc391f5"
      },
      "source": [
        "y = dataset['Churn']\n",
        "X = dataset.drop(['Churn'], axis = 1)"
      ],
      "execution_count": null,
      "outputs": [
        {
          "output_type": "stream",
          "text": [
            "time: 6.6 ms (started: 2021-05-11 10:49:13 +00:00)\n"
          ],
          "name": "stdout"
        }
      ]
    },
    {
      "cell_type": "code",
      "metadata": {
        "colab": {
          "base_uri": "https://localhost:8080/"
        },
        "id": "iz4ns7OLFhmn",
        "outputId": "8e47bf93-6a90-484b-b88b-daed35d71685"
      },
      "source": [
        "print(f'X: {X.shape}')"
      ],
      "execution_count": null,
      "outputs": [
        {
          "output_type": "stream",
          "text": [
            "X: (7032, 46)\n",
            "time: 2.83 ms (started: 2021-05-11 10:49:13 +00:00)\n"
          ],
          "name": "stdout"
        }
      ]
    },
    {
      "cell_type": "markdown",
      "metadata": {
        "id": "MUU7NtQsdvJh"
      },
      "source": [
        "# Base model"
      ]
    },
    {
      "cell_type": "code",
      "metadata": {
        "id": "n9jwA92eFmCQ",
        "colab": {
          "base_uri": "https://localhost:8080/"
        },
        "outputId": "ae48eb6d-767c-484f-ef66-3eaed34cca83"
      },
      "source": [
        "#Train dan test split\n",
        "\n",
        "X_train , X_test, y_train, y_test = train_test_split(X, y , test_size = 0.200 , random_state = rand_state)"
      ],
      "execution_count": null,
      "outputs": [
        {
          "output_type": "stream",
          "text": [
            "time: 10.4 ms (started: 2021-05-11 10:49:13 +00:00)\n"
          ],
          "name": "stdout"
        }
      ]
    },
    {
      "cell_type": "code",
      "metadata": {
        "colab": {
          "base_uri": "https://localhost:8080/"
        },
        "id": "omWNQgBCFocq",
        "outputId": "efca773b-60d3-48a6-87a6-d0e02ce48daa"
      },
      "source": [
        "print(f'X_train: {X_train.shape}')\n",
        "print(f'y_train: {y_train.shape}')\n",
        "print(f'X_test: {X_test.shape}')\n",
        "print(f'y_test: {y_test.shape}')"
      ],
      "execution_count": null,
      "outputs": [
        {
          "output_type": "stream",
          "text": [
            "X_train: (5625, 46)\n",
            "y_train: (5625,)\n",
            "X_test: (1407, 46)\n",
            "y_test: (1407,)\n",
            "time: 5.92 ms (started: 2021-05-11 10:49:13 +00:00)\n"
          ],
          "name": "stdout"
        }
      ]
    },
    {
      "cell_type": "code",
      "metadata": {
        "id": "Ns5zCTmGFrjN",
        "colab": {
          "base_uri": "https://localhost:8080/"
        },
        "outputId": "bfff5dd8-7f15-4958-a44f-5842099847d9"
      },
      "source": [
        "y_train = y_train.astype(np.int)\n",
        "y_test = y_test.astype(np.int)"
      ],
      "execution_count": null,
      "outputs": [
        {
          "output_type": "stream",
          "text": [
            "time: 2.45 ms (started: 2021-05-11 10:49:13 +00:00)\n"
          ],
          "name": "stdout"
        }
      ]
    },
    {
      "cell_type": "code",
      "metadata": {
        "id": "j7Tp5lKFFtoX",
        "colab": {
          "base_uri": "https://localhost:8080/"
        },
        "outputId": "a0b73102-fe18-4bb0-c972-20cf35c2f4fd"
      },
      "source": [
        "classifier = RandomForestClassifier(random_state = rand_state)\n",
        "classifier.fit(X_train, y_train)\n",
        "y_pred = classifier.predict(X_test)"
      ],
      "execution_count": null,
      "outputs": [
        {
          "output_type": "stream",
          "text": [
            "time: 803 ms (started: 2021-05-11 10:49:13 +00:00)\n"
          ],
          "name": "stdout"
        }
      ]
    },
    {
      "cell_type": "code",
      "metadata": {
        "colab": {
          "base_uri": "https://localhost:8080/"
        },
        "id": "uZnQnAnKFvrY",
        "outputId": "0a7a7f48-42f5-4067-c047-beb603e6b0f7"
      },
      "source": [
        "from sklearn.metrics import classification_report, confusion_matrix, accuracy_score\n",
        "print (classification_report(y_test, y_pred))\n",
        "print (confusion_matrix(y_test, y_pred))\n",
        "print (accuracy_score(y_test, y_pred))"
      ],
      "execution_count": null,
      "outputs": [
        {
          "output_type": "stream",
          "text": [
            "              precision    recall  f1-score   support\n",
            "\n",
            "           0       0.84      0.88      0.86      1052\n",
            "           1       0.59      0.49      0.53       355\n",
            "\n",
            "    accuracy                           0.78      1407\n",
            "   macro avg       0.71      0.69      0.70      1407\n",
            "weighted avg       0.77      0.78      0.78      1407\n",
            "\n",
            "[[931 121]\n",
            " [182 173]]\n",
            "0.7846481876332623\n",
            "time: 19.7 ms (started: 2021-05-11 10:49:13 +00:00)\n"
          ],
          "name": "stdout"
        }
      ]
    },
    {
      "cell_type": "markdown",
      "metadata": {
        "id": "BkmNTd4sdkdd"
      },
      "source": [
        "# Proposed Model: Feature Selection"
      ]
    },
    {
      "cell_type": "code",
      "metadata": {
        "id": "v7UlzeFIAGo0",
        "colab": {
          "base_uri": "https://localhost:8080/"
        },
        "outputId": "d7d69ddb-af3e-443e-f0f8-0a37ca593110"
      },
      "source": [
        "#selected_features = ['Contract', 'tenure', 'OnlineSecurity', 'TechSupport', 'InternetService', 'OnlineBackup', 'PaymentMethod', \n",
        "#'DeviceProtection', 'MonthlyCharges', 'TotalCharges', 'StreamingMovies', 'StreamingTV', 'PaperlessBilling', 'Dependents',\n",
        "#'Partner', 'SeniorCitizen','MultipleLines','PhoneService','gender', 'Churn']\n",
        "\n",
        "selected_features = ['Contract', 'tenure', 'OnlineSecurity', 'TechSupport', 'InternetService', 'OnlineBackup', 'PaymentMethod', \n",
        "                     'DeviceProtection', 'MonthlyCharges', 'TotalCharges','StreamingMovies','StreamingTV',\n",
        "                     'PaperlessBilling','Dependents','Partner','SeniorCitizen','Churn']"
      ],
      "execution_count": null,
      "outputs": [
        {
          "output_type": "stream",
          "text": [
            "time: 1.72 ms (started: 2021-05-11 10:49:14 +00:00)\n"
          ],
          "name": "stdout"
        }
      ]
    },
    {
      "cell_type": "code",
      "metadata": {
        "id": "lqsgt0zDAKlo",
        "colab": {
          "base_uri": "https://localhost:8080/"
        },
        "outputId": "10d73de7-4c8d-46cc-e24c-e9be117f3a13"
      },
      "source": [
        "df_out = select_features(dataset, selected_features)\n",
        "y = df_out['Churn']\n",
        "X = df_out.drop(['Churn'], axis = 1)\n",
        "X_train , X_test, y_train, y_test = train_test_split(X, y , test_size = 0.200 , random_state = rand_state)"
      ],
      "execution_count": null,
      "outputs": [
        {
          "output_type": "stream",
          "text": [
            "time: 27.5 ms (started: 2021-05-11 10:49:14 +00:00)\n"
          ],
          "name": "stdout"
        }
      ]
    },
    {
      "cell_type": "markdown",
      "metadata": {
        "id": "mE26TnhjT9YD"
      },
      "source": [
        "# Proposed Model: Hyperparameter Search"
      ]
    },
    {
      "cell_type": "code",
      "metadata": {
        "colab": {
          "base_uri": "https://localhost:8080/"
        },
        "id": "CMyKDPUTT7Cu",
        "outputId": "4096ef8a-defc-4cd3-85fa-ce50577c9189"
      },
      "source": [
        "from sklearn.model_selection import RandomizedSearchCV,GridSearchCV\n",
        "from sklearn.model_selection import cross_val_score\n",
        "\n",
        "random_search = {'criterion': ['entropy', 'gini'],\n",
        "               'max_depth': list(np.linspace(10, 600, 8, dtype = int)) + [None],\n",
        "               'max_features': ['auto', 'sqrt','log2', None],\n",
        "               'min_samples_leaf': [4, 6, 8, 12],\n",
        "               'min_samples_split': [5, 7, 10, 14],\n",
        "               'n_estimators': list(np.linspace(50, 300, 8, dtype = int))}\n",
        "\n",
        "clf = RandomForestClassifier()\n",
        "#model = GridSearchCV(clf, random_search,\n",
        "#                               cv = 3, verbose= 5, n_jobs = -1)\n",
        "model = RandomizedSearchCV(estimator = clf, param_distributions = random_search, n_iter = niter, \n",
        "                               cv = kfold, verbose= 5, random_state= rand_state, n_jobs = -1)\n",
        "model.fit(X_train,y_train)"
      ],
      "execution_count": null,
      "outputs": [
        {
          "output_type": "stream",
          "text": [
            "Fitting 3 folds for each of 125 candidates, totalling 375 fits\n"
          ],
          "name": "stdout"
        },
        {
          "output_type": "stream",
          "text": [
            "[Parallel(n_jobs=-1)]: Using backend LokyBackend with 2 concurrent workers.\n",
            "[Parallel(n_jobs=-1)]: Done  14 tasks      | elapsed:   13.5s\n",
            "[Parallel(n_jobs=-1)]: Done  68 tasks      | elapsed:  1.3min\n",
            "[Parallel(n_jobs=-1)]: Done 158 tasks      | elapsed:  2.5min\n",
            "[Parallel(n_jobs=-1)]: Done 284 tasks      | elapsed:  4.2min\n",
            "[Parallel(n_jobs=-1)]: Done 375 out of 375 | elapsed:  5.5min finished\n"
          ],
          "name": "stderr"
        },
        {
          "output_type": "execute_result",
          "data": {
            "text/plain": [
              "RandomizedSearchCV(cv=3, error_score=nan,\n",
              "                   estimator=RandomForestClassifier(bootstrap=True,\n",
              "                                                    ccp_alpha=0.0,\n",
              "                                                    class_weight=None,\n",
              "                                                    criterion='gini',\n",
              "                                                    max_depth=None,\n",
              "                                                    max_features='auto',\n",
              "                                                    max_leaf_nodes=None,\n",
              "                                                    max_samples=None,\n",
              "                                                    min_impurity_decrease=0.0,\n",
              "                                                    min_impurity_split=None,\n",
              "                                                    min_samples_leaf=1,\n",
              "                                                    min_samples_split=2,\n",
              "                                                    min_weight_fraction_leaf=0.0,\n",
              "                                                    n_estimators=100,\n",
              "                                                    n_jobs...\n",
              "                   param_distributions={'criterion': ['entropy', 'gini'],\n",
              "                                        'max_depth': [10, 94, 178, 262, 347,\n",
              "                                                      431, 515, 600, None],\n",
              "                                        'max_features': ['auto', 'sqrt', 'log2',\n",
              "                                                         None],\n",
              "                                        'min_samples_leaf': [4, 6, 8, 12],\n",
              "                                        'min_samples_split': [5, 7, 10, 14],\n",
              "                                        'n_estimators': [50, 85, 121, 157, 192,\n",
              "                                                         228, 264, 300]},\n",
              "                   pre_dispatch='2*n_jobs', random_state=101, refit=True,\n",
              "                   return_train_score=False, scoring=None, verbose=5)"
            ]
          },
          "metadata": {
            "tags": []
          },
          "execution_count": 15
        },
        {
          "output_type": "stream",
          "text": [
            "time: 5min 30s (started: 2021-05-11 10:49:14 +00:00)\n"
          ],
          "name": "stdout"
        }
      ]
    },
    {
      "cell_type": "code",
      "metadata": {
        "id": "w7p5z-JFUTvG",
        "colab": {
          "base_uri": "https://localhost:8080/"
        },
        "outputId": "2c64371a-e884-4cfa-e3a6-b9f3a398bc81"
      },
      "source": [
        "predictionforest = model.best_estimator_.predict(X_test)\n",
        "print(confusion_matrix(y_test,predictionforest))\n",
        "print(classification_report(y_test,predictionforest))\n",
        "acc = accuracy_score(y_test,y_pred)\n",
        "acc1 = accuracy_score(y_test,predictionforest)"
      ],
      "execution_count": null,
      "outputs": [
        {
          "output_type": "stream",
          "text": [
            "[[966  86]\n",
            " [173 182]]\n",
            "              precision    recall  f1-score   support\n",
            "\n",
            "           0       0.85      0.92      0.88      1052\n",
            "           1       0.68      0.51      0.58       355\n",
            "\n",
            "    accuracy                           0.82      1407\n",
            "   macro avg       0.76      0.72      0.73      1407\n",
            "weighted avg       0.81      0.82      0.81      1407\n",
            "\n",
            "time: 91.1 ms (started: 2021-05-11 10:54:44 +00:00)\n"
          ],
          "name": "stdout"
        }
      ]
    },
    {
      "cell_type": "code",
      "metadata": {
        "id": "D66PqrgkXI3P",
        "colab": {
          "base_uri": "https://localhost:8080/"
        },
        "outputId": "2cf7fbb7-edcc-43a4-8151-061ef1a4495e"
      },
      "source": [
        "print(\"Base accuracy:\",acc*100,\"%\")\n",
        "print(\"Optimized accuracy:\",acc1*100,\"%\")\n",
        "print(\"Increase in accuracy:\",(acc1-acc)*100,\"%\")"
      ],
      "execution_count": null,
      "outputs": [
        {
          "output_type": "stream",
          "text": [
            "Base accuracy: 78.46481876332622 %\n",
            "Optimized accuracy: 81.59203980099502 %\n",
            "Increase in accuracy: 3.1272210376687926 %\n",
            "time: 2.79 ms (started: 2021-05-11 10:54:44 +00:00)\n"
          ],
          "name": "stdout"
        }
      ]
    },
    {
      "cell_type": "markdown",
      "metadata": {
        "id": "x-v_4joI-XxM"
      },
      "source": [
        "# Save Base & Proposed Model"
      ]
    },
    {
      "cell_type": "code",
      "metadata": {
        "id": "zp88J0zVXYSP",
        "colab": {
          "base_uri": "https://localhost:8080/"
        },
        "outputId": "10404846-1e68-46e8-a995-bda3a1a0fe86"
      },
      "source": [
        "#ngesave model\n",
        "\n",
        "runtime = time.strftime(\"%d-%m-%Y %H:%M:%S\")\n",
        "\n",
        "base_filename = \"/content/drive/MyDrive/TubesAI_folder/Model_IBM/ibm_base_\" + runtime + \".pkl\"\n",
        "with open(base_filename, 'wb') as file:\n",
        "  pickle.dump(classifier, file)\n",
        "\n",
        "pkl_filename = pkl_filename = \"/content/drive/MyDrive/TubesAI_folder/Model_IBM/ibm_model_\" + runtime + \".pkl\"\n",
        "with open(pkl_filename, 'wb') as file:\n",
        "  pickle.dump(model, file)\n",
        "\n",
        "with open(\"/content/drive/MyDrive/TubesAI_folder/Model_IBM/log_\" + runtime + \".txt\",'a') as file:\n",
        "  L = [\"base accuracy = \"+str(acc*100)+\"%\\n\",\n",
        "       \"opt accuracy = \"+str(acc1*100)+\"%\\n\",\n",
        "       \"Increase in accuracy:\"+str((acc1-acc)*100)+\"%\\n\",\n",
        "       str(model.best_estimator_.get_params())]\n",
        "  file.writelines(L)"
      ],
      "execution_count": null,
      "outputs": [
        {
          "output_type": "stream",
          "text": [
            "time: 225 ms (started: 2021-05-11 10:54:44 +00:00)\n"
          ],
          "name": "stdout"
        }
      ]
    },
    {
      "cell_type": "code",
      "metadata": {
        "id": "TiCWeE_NBsP-",
        "colab": {
          "base_uri": "https://localhost:8080/"
        },
        "outputId": "68ec147f-bbc5-4aa9-8d00-5f06e97bf666"
      },
      "source": [
        "model.best_estimator_.get_params()"
      ],
      "execution_count": null,
      "outputs": [
        {
          "output_type": "execute_result",
          "data": {
            "text/plain": [
              "{'bootstrap': True,\n",
              " 'ccp_alpha': 0.0,\n",
              " 'class_weight': None,\n",
              " 'criterion': 'entropy',\n",
              " 'max_depth': 600,\n",
              " 'max_features': 'log2',\n",
              " 'max_leaf_nodes': None,\n",
              " 'max_samples': None,\n",
              " 'min_impurity_decrease': 0.0,\n",
              " 'min_impurity_split': None,\n",
              " 'min_samples_leaf': 12,\n",
              " 'min_samples_split': 5,\n",
              " 'min_weight_fraction_leaf': 0.0,\n",
              " 'n_estimators': 264,\n",
              " 'n_jobs': None,\n",
              " 'oob_score': False,\n",
              " 'random_state': None,\n",
              " 'verbose': 0,\n",
              " 'warm_start': False}"
            ]
          },
          "metadata": {
            "tags": []
          },
          "execution_count": 19
        },
        {
          "output_type": "stream",
          "text": [
            "time: 11 ms (started: 2021-05-11 10:54:45 +00:00)\n"
          ],
          "name": "stdout"
        }
      ]
    },
    {
      "cell_type": "markdown",
      "metadata": {
        "id": "qgaSR53f2Ya0"
      },
      "source": [
        "# Evaluation"
      ]
    },
    {
      "cell_type": "code",
      "metadata": {
        "id": "C5fi066Er4hl",
        "colab": {
          "base_uri": "https://localhost:8080/"
        },
        "outputId": "2b1258b6-6453-4bfc-bcb6-7becf4a15f27"
      },
      "source": [
        "infile = open('/content/drive/MyDrive/TubesAI_folder/Model_IBM/ibm_model_'+runtime+'.pkl','rb')\n",
        "evalmodel = pickle.load(infile)\n",
        "infile.close()\n",
        "\n",
        "evalmodel.best_estimator_.get_params()"
      ],
      "execution_count": null,
      "outputs": [
        {
          "output_type": "execute_result",
          "data": {
            "text/plain": [
              "{'bootstrap': True,\n",
              " 'ccp_alpha': 0.0,\n",
              " 'class_weight': None,\n",
              " 'criterion': 'entropy',\n",
              " 'max_depth': 600,\n",
              " 'max_features': 'log2',\n",
              " 'max_leaf_nodes': None,\n",
              " 'max_samples': None,\n",
              " 'min_impurity_decrease': 0.0,\n",
              " 'min_impurity_split': None,\n",
              " 'min_samples_leaf': 12,\n",
              " 'min_samples_split': 5,\n",
              " 'min_weight_fraction_leaf': 0.0,\n",
              " 'n_estimators': 264,\n",
              " 'n_jobs': None,\n",
              " 'oob_score': False,\n",
              " 'random_state': None,\n",
              " 'verbose': 0,\n",
              " 'warm_start': False}"
            ]
          },
          "metadata": {
            "tags": []
          },
          "execution_count": 20
        },
        {
          "output_type": "stream",
          "text": [
            "time: 37.8 ms (started: 2021-05-11 10:54:45 +00:00)\n"
          ],
          "name": "stdout"
        }
      ]
    },
    {
      "cell_type": "code",
      "metadata": {
        "colab": {
          "base_uri": "https://localhost:8080/"
        },
        "id": "gnOEvdEq2xHx",
        "outputId": "5808a957-4136-48ef-afc8-1b21eac35309"
      },
      "source": [
        "from sklearn.metrics import precision_score,recall_score,f1_score\n",
        "\n",
        "y_eval = evalmodel.best_estimator_.predict(X_test)\n",
        "\n",
        "acceval = accuracy_score(y_test,y_eval)*100\n",
        "preciseval = precision_score(y_test,y_eval)*100\n",
        "recalleval = recall_score(y_test,y_eval)*100\n",
        "f1eval = f1_score(y_test,y_eval)*100\n",
        "\n",
        "print(\"EVALUATION OF PROPOSED MODEL:\\n\")\n",
        "\n",
        "print(\"Summary:\")\n",
        "print(classification_report(y_test,y_eval))\n",
        "\n",
        "print(\"Confusion matrix:\")\n",
        "print(str(confusion_matrix(y_test,y_eval))+\"\\n\")\n",
        "\n",
        "print(\"Accuracy:\")\n",
        "print(str(acceval)+\"%\\n\")\n",
        "\n",
        "print(\"Precision:\")\n",
        "print(str(preciseval)+\"%\\n\")\n",
        "\n",
        "print(\"Recall:\")\n",
        "print(str(recalleval)+\"%\\n\")\n",
        "\n",
        "print(\"F1 Score:\")\n",
        "print(str(f1eval)+\"%\\n\")"
      ],
      "execution_count": null,
      "outputs": [
        {
          "output_type": "stream",
          "text": [
            "EVALUATION OF PROPOSED MODEL:\n",
            "\n",
            "Summary:\n",
            "              precision    recall  f1-score   support\n",
            "\n",
            "           0       0.85      0.92      0.88      1052\n",
            "           1       0.68      0.51      0.58       355\n",
            "\n",
            "    accuracy                           0.82      1407\n",
            "   macro avg       0.76      0.72      0.73      1407\n",
            "weighted avg       0.81      0.82      0.81      1407\n",
            "\n",
            "Confusion matrix:\n",
            "[[966  86]\n",
            " [173 182]]\n",
            "\n",
            "Accuracy:\n",
            "81.59203980099502%\n",
            "\n",
            "Precision:\n",
            "67.91044776119402%\n",
            "\n",
            "Recall:\n",
            "51.267605633802816%\n",
            "\n",
            "F1 Score:\n",
            "58.42696629213484%\n",
            "\n",
            "time: 112 ms (started: 2021-05-11 10:54:45 +00:00)\n"
          ],
          "name": "stdout"
        }
      ]
    },
    {
      "cell_type": "code",
      "metadata": {
        "colab": {
          "base_uri": "https://localhost:8080/"
        },
        "id": "lD3lsIkr5cuZ",
        "outputId": "a2e7793e-9039-4bec-baa4-074439af057d"
      },
      "source": [
        "accpred = accuracy_score(y_test,y_pred)*100\n",
        "precispred = precision_score(y_test,y_pred)*100\n",
        "recallpred = recall_score(y_test,y_pred)*100\n",
        "f1pred = f1_score(y_test,y_pred)*100\n",
        "\n",
        "print(\"EVALUATION OF BASE MODEL:\\n\")\n",
        "\n",
        "print(\"Summary:\")\n",
        "print(classification_report(y_test,y_pred))\n",
        "\n",
        "print(\"Confusion matrix:\")\n",
        "print(str(confusion_matrix(y_test,y_pred))+\"\\n\")\n",
        "\n",
        "print(\"Accuracy:\")\n",
        "print(str(accpred)+\"%\\n\")\n",
        "\n",
        "print(\"Precision:\")\n",
        "print(str(precispred)+\"%\\n\")\n",
        "\n",
        "print(\"Recall:\")\n",
        "print(str(recallpred)+\"%\\n\")\n",
        "\n",
        "print(\"F1 Score:\")\n",
        "print(str(f1pred)+\"%\\n\")"
      ],
      "execution_count": null,
      "outputs": [
        {
          "output_type": "stream",
          "text": [
            "EVALUATION OF BASE MODEL:\n",
            "\n",
            "Summary:\n",
            "              precision    recall  f1-score   support\n",
            "\n",
            "           0       0.84      0.88      0.86      1052\n",
            "           1       0.59      0.49      0.53       355\n",
            "\n",
            "    accuracy                           0.78      1407\n",
            "   macro avg       0.71      0.69      0.70      1407\n",
            "weighted avg       0.77      0.78      0.78      1407\n",
            "\n",
            "Confusion matrix:\n",
            "[[931 121]\n",
            " [182 173]]\n",
            "\n",
            "Accuracy:\n",
            "78.46481876332622%\n",
            "\n",
            "Precision:\n",
            "58.843537414965986%\n",
            "\n",
            "Recall:\n",
            "48.732394366197184%\n",
            "\n",
            "F1 Score:\n",
            "53.312788906009246%\n",
            "\n",
            "time: 34.9 ms (started: 2021-05-11 10:54:45 +00:00)\n"
          ],
          "name": "stdout"
        }
      ]
    },
    {
      "cell_type": "code",
      "metadata": {
        "id": "lJdpyyETM9N0"
      },
      "source": [
        ""
      ],
      "execution_count": null,
      "outputs": []
    }
  ]
}