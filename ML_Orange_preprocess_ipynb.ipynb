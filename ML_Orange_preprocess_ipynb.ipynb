{
  "nbformat": 4,
  "nbformat_minor": 0,
  "metadata": {
    "colab": {
      "name": "ML_Orange_preprocess ipynb",
      "provenance": [],
      "collapsed_sections": [],
      "include_colab_link": true
    },
    "kernelspec": {
      "name": "python3",
      "display_name": "Python 3"
    },
    "language_info": {
      "name": "python"
    }
  },
  "cells": [
    {
      "cell_type": "markdown",
      "metadata": {
        "id": "view-in-github",
        "colab_type": "text"
      },
      "source": [
        "<a href=\"https://colab.research.google.com/github/ditarnnt/Telecom-Predic-Churn/blob/main/ML_Orange_preprocess_ipynb.ipynb\" target=\"_parent\"><img src=\"https://colab.research.google.com/assets/colab-badge.svg\" alt=\"Open In Colab\"/></a>"
      ]
    },
    {
      "cell_type": "markdown",
      "metadata": {
        "id": "ML9VDXuE1ylQ"
      },
      "source": [
        "Training: Run all\n",
        "\n",
        "Evaluating: Run dari awal sampai feature selection, lalu run 'Evaluation'"
      ]
    },
    {
      "cell_type": "markdown",
      "metadata": {
        "id": "-ax3Uoged9Bk"
      },
      "source": [
        "# Starting steps"
      ]
    },
    {
      "cell_type": "code",
      "metadata": {
        "id": "ryUSnQ6YDyP-",
        "colab": {
          "base_uri": "https://localhost:8080/"
        },
        "outputId": "fac68bde-7c74-4fab-f115-43a4f2f6ca4d"
      },
      "source": [
        "from google.colab import drive\n",
        "import pandas as pd #pandas\n",
        "import numpy as np #numpy\n",
        "import re\n",
        "from sklearn.preprocessing import LabelEncoder, OneHotEncoder #encoding data kategorikal\n",
        "from sklearn.preprocessing import StandardScaler #standardization\n",
        "from sklearn.model_selection import train_test_split #train test split\n",
        "from sklearn.ensemble import RandomForestClassifier\n",
        "import time\n",
        "import pickle\n",
        "\n",
        "!pip install ipython-autotime\n",
        "%load_ext autotime\n",
        "\n",
        "rand_state = 101 #hyperparameter search argument\n",
        "niter = 125 #hyperparameter search argument\n",
        "kfold = 3 #hyperparameter search argument"
      ],
      "execution_count": null,
      "outputs": [
        {
          "output_type": "stream",
          "text": [
            "Collecting ipython-autotime\n",
            "  Downloading https://files.pythonhosted.org/packages/b4/c9/b413a24f759641bc27ef98c144b590023c8038dfb8a3f09e713e9dff12c1/ipython_autotime-0.3.1-py2.py3-none-any.whl\n",
            "Requirement already satisfied: ipython in /usr/local/lib/python3.7/dist-packages (from ipython-autotime) (5.5.0)\n",
            "Requirement already satisfied: prompt-toolkit<2.0.0,>=1.0.4 in /usr/local/lib/python3.7/dist-packages (from ipython->ipython-autotime) (1.0.18)\n",
            "Requirement already satisfied: simplegeneric>0.8 in /usr/local/lib/python3.7/dist-packages (from ipython->ipython-autotime) (0.8.1)\n",
            "Requirement already satisfied: pygments in /usr/local/lib/python3.7/dist-packages (from ipython->ipython-autotime) (2.6.1)\n",
            "Requirement already satisfied: pexpect; sys_platform != \"win32\" in /usr/local/lib/python3.7/dist-packages (from ipython->ipython-autotime) (4.8.0)\n",
            "Requirement already satisfied: pickleshare in /usr/local/lib/python3.7/dist-packages (from ipython->ipython-autotime) (0.7.5)\n",
            "Requirement already satisfied: setuptools>=18.5 in /usr/local/lib/python3.7/dist-packages (from ipython->ipython-autotime) (56.1.0)\n",
            "Requirement already satisfied: decorator in /usr/local/lib/python3.7/dist-packages (from ipython->ipython-autotime) (4.4.2)\n",
            "Requirement already satisfied: traitlets>=4.2 in /usr/local/lib/python3.7/dist-packages (from ipython->ipython-autotime) (5.0.5)\n",
            "Requirement already satisfied: wcwidth in /usr/local/lib/python3.7/dist-packages (from prompt-toolkit<2.0.0,>=1.0.4->ipython->ipython-autotime) (0.2.5)\n",
            "Requirement already satisfied: six>=1.9.0 in /usr/local/lib/python3.7/dist-packages (from prompt-toolkit<2.0.0,>=1.0.4->ipython->ipython-autotime) (1.15.0)\n",
            "Requirement already satisfied: ptyprocess>=0.5 in /usr/local/lib/python3.7/dist-packages (from pexpect; sys_platform != \"win32\"->ipython->ipython-autotime) (0.7.0)\n",
            "Requirement already satisfied: ipython-genutils in /usr/local/lib/python3.7/dist-packages (from traitlets>=4.2->ipython->ipython-autotime) (0.2.0)\n",
            "Installing collected packages: ipython-autotime\n",
            "Successfully installed ipython-autotime-0.3.1\n",
            "time: 1.87 ms (started: 2021-05-11 10:49:22 +00:00)\n"
          ],
          "name": "stdout"
        }
      ]
    },
    {
      "cell_type": "code",
      "metadata": {
        "colab": {
          "base_uri": "https://localhost:8080/"
        },
        "id": "fQt-sFLpEFre",
        "outputId": "505c4200-78b2-45ca-b2d8-41668f4c4081"
      },
      "source": [
        "drive.mount('/content/drive')\n",
        "dataset = pd.read_csv('/content/drive/MyDrive/TubesAI_folder/Dataset/orange_preprocessed.csv')  \n",
        "print (dataset)"
      ],
      "execution_count": null,
      "outputs": [
        {
          "output_type": "stream",
          "text": [
            "Mounted at /content/drive\n",
            "      Account length  Number vmail messages  ...  International plan  Churn\n",
            "0              128.0                   25.0  ...                 0.0    0.0\n",
            "1              107.0                   26.0  ...                 0.0    0.0\n",
            "2              137.0                    0.0  ...                 0.0    0.0\n",
            "3               84.0                    0.0  ...                 1.0    0.0\n",
            "4               75.0                    0.0  ...                 1.0    0.0\n",
            "...              ...                    ...  ...                 ...    ...\n",
            "3328           114.0                   26.0  ...                 0.0    0.0\n",
            "3329           106.0                   29.0  ...                 0.0    0.0\n",
            "3330            60.0                    0.0  ...                 0.0    0.0\n",
            "3331           159.0                    0.0  ...                 0.0    0.0\n",
            "3332           184.0                    0.0  ...                 1.0    0.0\n",
            "\n",
            "[3333 rows x 18 columns]\n",
            "time: 20.8 s (started: 2021-05-11 10:49:22 +00:00)\n"
          ],
          "name": "stdout"
        }
      ]
    },
    {
      "cell_type": "code",
      "metadata": {
        "id": "_KwfZp5L_XYR",
        "colab": {
          "base_uri": "https://localhost:8080/"
        },
        "outputId": "538f91d7-110e-4de6-ba39-08355aa67a44"
      },
      "source": [
        "def select_features(df,selected_features):\n",
        "  '''\n",
        "  Fungsi untuk memilih fitur pada dataset.\n",
        "  Menggunakan RegEx untuk seleksi fitur yang di-encode secara OneHot Encoding.\n",
        "  Ketentuan seleksi fitur OneHotEncoding: Fitur harus punya prefix yang sesuai dengan nama fitur.\n",
        "  Argumen:\n",
        "  df - dataset yang akan diseleksi fitur-fiturnya\n",
        "  selected_features - list berisi fitur-fitur yang akan dipilih\n",
        "  Output:\n",
        "  df_out - dataset yang berisi fitur-fitur pada selected_features.\n",
        "  '''\n",
        "  df_out = pd.DataFrame(index=df.index.tolist())\n",
        "  cols = []\n",
        "  for feature in selected_features:\n",
        "    r = re.compile(feature) # Read Note\n",
        "    cols = cols + list(filter(r.match,df.columns.tolist()))\n",
        "  df_out = df[cols]\n",
        "  return df_out"
      ],
      "execution_count": null,
      "outputs": [
        {
          "output_type": "stream",
          "text": [
            "time: 8.03 ms (started: 2021-05-11 10:49:43 +00:00)\n"
          ],
          "name": "stdout"
        }
      ]
    },
    {
      "cell_type": "code",
      "metadata": {
        "id": "GhmusWsXEPv2",
        "colab": {
          "base_uri": "https://localhost:8080/"
        },
        "outputId": "dabb8061-96ff-423c-c1a2-9fad9322b386"
      },
      "source": [
        "y = dataset['Churn']\n",
        "X = dataset.drop(['Churn'], axis = 1)"
      ],
      "execution_count": null,
      "outputs": [
        {
          "output_type": "stream",
          "text": [
            "time: 4.34 ms (started: 2021-05-11 10:49:43 +00:00)\n"
          ],
          "name": "stdout"
        }
      ]
    },
    {
      "cell_type": "code",
      "metadata": {
        "colab": {
          "base_uri": "https://localhost:8080/"
        },
        "id": "XCXV2xKGEP2p",
        "outputId": "48f3e5b5-6bb4-44ba-c15a-d20be65801c7"
      },
      "source": [
        "print(f'X: {X.shape}')"
      ],
      "execution_count": null,
      "outputs": [
        {
          "output_type": "stream",
          "text": [
            "X: (3333, 17)\n",
            "time: 3.19 ms (started: 2021-05-11 10:49:43 +00:00)\n"
          ],
          "name": "stdout"
        }
      ]
    },
    {
      "cell_type": "code",
      "metadata": {
        "id": "F7RzRTCdEP8I",
        "colab": {
          "base_uri": "https://localhost:8080/"
        },
        "outputId": "3110d70f-8c46-47af-9b7f-90f33ae2806d"
      },
      "source": [
        "X_train , X_test, y_train, y_test = train_test_split(X, y , test_size = 0.200 , random_state = rand_state)"
      ],
      "execution_count": null,
      "outputs": [
        {
          "output_type": "stream",
          "text": [
            "time: 12.2 ms (started: 2021-05-11 10:49:43 +00:00)\n"
          ],
          "name": "stdout"
        }
      ]
    },
    {
      "cell_type": "code",
      "metadata": {
        "colab": {
          "base_uri": "https://localhost:8080/"
        },
        "id": "5cnoPVAsEjuP",
        "outputId": "e8bcc160-8c4a-4136-e2de-d7ab17f0570f"
      },
      "source": [
        "print(f'X_train: {X_train.shape}')\n",
        "print(f'y_train: {y_train.shape}')\n",
        "print(f'X_test: {X_test.shape}')\n",
        "print(f'y_test: {y_test.shape}')"
      ],
      "execution_count": null,
      "outputs": [
        {
          "output_type": "stream",
          "text": [
            "X_train: (2666, 17)\n",
            "y_train: (2666,)\n",
            "X_test: (667, 17)\n",
            "y_test: (667,)\n",
            "time: 6.34 ms (started: 2021-05-11 10:49:43 +00:00)\n"
          ],
          "name": "stdout"
        }
      ]
    },
    {
      "cell_type": "code",
      "metadata": {
        "id": "OAmgezvxEkYH",
        "colab": {
          "base_uri": "https://localhost:8080/"
        },
        "outputId": "ae74faa7-1cf2-48c1-fe09-d9b158db3a05"
      },
      "source": [
        "y_train = y_train.astype(np.int)\n",
        "y_test = y_test.astype(np.int)"
      ],
      "execution_count": null,
      "outputs": [
        {
          "output_type": "stream",
          "text": [
            "time: 3.01 ms (started: 2021-05-11 10:49:43 +00:00)\n"
          ],
          "name": "stdout"
        }
      ]
    },
    {
      "cell_type": "markdown",
      "metadata": {
        "id": "JMXg7HjaeIJI"
      },
      "source": [
        "# Base Model"
      ]
    },
    {
      "cell_type": "code",
      "metadata": {
        "id": "L9dCiKoXEm4P",
        "colab": {
          "base_uri": "https://localhost:8080/"
        },
        "outputId": "326a3ff0-7355-43ee-fd4d-c2a008d006bf"
      },
      "source": [
        "classifier = RandomForestClassifier(random_state = rand_state)\n",
        "classifier.fit(X_train, y_train)\n",
        "y_pred = classifier.predict(X_test)"
      ],
      "execution_count": null,
      "outputs": [
        {
          "output_type": "stream",
          "text": [
            "time: 758 ms (started: 2021-05-11 10:49:43 +00:00)\n"
          ],
          "name": "stdout"
        }
      ]
    },
    {
      "cell_type": "code",
      "metadata": {
        "colab": {
          "base_uri": "https://localhost:8080/"
        },
        "id": "W-uQnO5jEoee",
        "outputId": "a8fdc81e-b241-4e6d-d27b-14a6f2e8e627"
      },
      "source": [
        "from sklearn.metrics import classification_report, confusion_matrix, accuracy_score\n",
        "print (classification_report(y_test, y_pred))\n",
        "print (confusion_matrix(y_test, y_pred))\n",
        "print (accuracy_score(y_test, y_pred))\n",
        "\n"
      ],
      "execution_count": null,
      "outputs": [
        {
          "output_type": "stream",
          "text": [
            "              precision    recall  f1-score   support\n",
            "\n",
            "           0       0.96      0.99      0.97       573\n",
            "           1       0.91      0.73      0.81        94\n",
            "\n",
            "    accuracy                           0.95       667\n",
            "   macro avg       0.93      0.86      0.89       667\n",
            "weighted avg       0.95      0.95      0.95       667\n",
            "\n",
            "[[566   7]\n",
            " [ 25  69]]\n",
            "0.952023988005997\n",
            "time: 21.7 ms (started: 2021-05-11 10:49:44 +00:00)\n"
          ],
          "name": "stdout"
        }
      ]
    },
    {
      "cell_type": "markdown",
      "metadata": {
        "id": "KYR1UfNKeBia"
      },
      "source": [
        "# Proposed Model: Feature Selection"
      ]
    },
    {
      "cell_type": "code",
      "metadata": {
        "colab": {
          "base_uri": "https://localhost:8080/",
          "height": 105
        },
        "id": "PFlqKK-cC3Ff",
        "outputId": "bb99b40b-1de3-487a-923c-7af134d071fc"
      },
      "source": [
        "'''\n",
        "             Total day minutes\n",
        " 0.0774    5 Total day charge\n",
        " 0.05009  15 Customer service calls\n",
        " 0.03688  17 International plan\n",
        " 0.00822  16 Voice mail plan\n",
        " 0.00822   2 Number vmail messages\n",
        " 0.00729  13 Total intl calls\n",
        " 0.00674  12 Total intl minutes\n",
        " 0.00674  14 Total intl charge\n",
        " 0.00542   8 Total eve charge\n",
        " 0.00542   6 Total eve minutes\n",
        " 0         4 Total day calls\n",
        " 0         9 Total night minutes\n",
        " 0         7 Total eve calls\n",
        " 0        10 Total night calls\n",
        " 0        11 Total night charge\n",
        " 0         1 Account length\n",
        " '''"
      ],
      "execution_count": null,
      "outputs": [
        {
          "output_type": "execute_result",
          "data": {
            "application/vnd.google.colaboratory.intrinsic+json": {
              "type": "string"
            },
            "text/plain": [
              "'\\n             Total day minutes\\n 0.0774    5 Total day charge\\n 0.05009  15 Customer service calls\\n 0.03688  17 International plan\\n 0.00822  16 Voice mail plan\\n 0.00822   2 Number vmail messages\\n 0.00729  13 Total intl calls\\n 0.00674  12 Total intl minutes\\n 0.00674  14 Total intl charge\\n 0.00542   8 Total eve charge\\n 0.00542   6 Total eve minutes\\n 0         4 Total day calls\\n 0         9 Total night minutes\\n 0         7 Total eve calls\\n 0        10 Total night calls\\n 0        11 Total night charge\\n 0         1 Account length\\n '"
            ]
          },
          "metadata": {
            "tags": []
          },
          "execution_count": 11
        },
        {
          "output_type": "stream",
          "text": [
            "time: 5.52 ms (started: 2021-05-11 10:49:44 +00:00)\n"
          ],
          "name": "stdout"
        }
      ]
    },
    {
      "cell_type": "code",
      "metadata": {
        "id": "HZvRMjij_YQK",
        "colab": {
          "base_uri": "https://localhost:8080/"
        },
        "outputId": "3e5bc412-a3ef-4c09-b01e-e95919610c20"
      },
      "source": [
        "'''\n",
        "selected_features = ['Total day minutes','Total day charge', 'Customer service calls', 'International plan', 'Voice mail plan',\n",
        "                     'Number vmail messages', 'Total intl calls', 'Total intl minutes', 'Total intl charge',\n",
        "                     'Total eve charge', 'Total eve minutes', 'Total day calls', 'Total night minutes', \n",
        "                     'Total eve calls', 'Total night calls','Total night charge', 'Account length', 'Churn']\n",
        "'''\n",
        "\n",
        "selected_features = ['Total day minutes','Total day charge', 'Customer service calls', 'International plan', 'Voice mail plan',\n",
        "                     'Number vmail messages', 'Total intl calls', 'Total intl minutes', 'Total intl charge',\n",
        "                     'Total eve charge', 'Total eve minutes', 'Churn']"
      ],
      "execution_count": null,
      "outputs": [
        {
          "output_type": "stream",
          "text": [
            "time: 2.69 ms (started: 2021-05-11 10:49:44 +00:00)\n"
          ],
          "name": "stdout"
        }
      ]
    },
    {
      "cell_type": "code",
      "metadata": {
        "id": "qRQm4BcS_dUS",
        "colab": {
          "base_uri": "https://localhost:8080/"
        },
        "outputId": "fe43dbe8-e8e8-4d6b-8ea9-62fa699ea4f7"
      },
      "source": [
        "df_out = select_features(dataset, selected_features)\n",
        "y = df_out['Churn']\n",
        "X = df_out.drop(['Churn'], axis = 1)\n",
        "X_train , X_test, y_train, y_test = train_test_split(X, y , test_size = 0.200 , random_state = rand_state)"
      ],
      "execution_count": null,
      "outputs": [
        {
          "output_type": "stream",
          "text": [
            "time: 21.1 ms (started: 2021-05-11 10:49:44 +00:00)\n"
          ],
          "name": "stdout"
        }
      ]
    },
    {
      "cell_type": "markdown",
      "metadata": {
        "id": "9Wd2e3P5VAwT"
      },
      "source": [
        "# Proposed Model: Hyperparameter Search"
      ]
    },
    {
      "cell_type": "code",
      "metadata": {
        "colab": {
          "base_uri": "https://localhost:8080/"
        },
        "id": "AVIqZM8UTXI5",
        "outputId": "e9191633-07d9-488a-fd04-7fc738bcd56a"
      },
      "source": [
        "from sklearn.model_selection import RandomizedSearchCV,GridSearchCV\n",
        "from sklearn.model_selection import cross_val_score\n",
        "\n",
        "random_search = {'criterion': ['entropy', 'gini'],\n",
        "               'max_depth': list(np.linspace(10, 600, 8, dtype = int)) + [None],\n",
        "               'max_features': ['auto', 'sqrt','log2', None],\n",
        "               'min_samples_leaf': [4, 6, 8, 12],\n",
        "               'min_samples_split': [5, 7, 10, 14],\n",
        "               'n_estimators': list(np.linspace(50, 300, 8, dtype = int))}\n",
        "\n",
        "clf = RandomForestClassifier()\n",
        "#model = GridSearchCV(clf, random_search,\n",
        "#                               cv = 3, verbose= 5, n_jobs = -1)\n",
        "model = RandomizedSearchCV(estimator = clf, param_distributions = random_search, n_iter = niter, \n",
        "                               cv = kfold, verbose= 5, random_state= rand_state, n_jobs = -1)\n",
        "model.fit(X_train,y_train) "
      ],
      "execution_count": null,
      "outputs": [
        {
          "output_type": "stream",
          "text": [
            "Fitting 3 folds for each of 125 candidates, totalling 375 fits\n"
          ],
          "name": "stdout"
        },
        {
          "output_type": "stream",
          "text": [
            "[Parallel(n_jobs=-1)]: Using backend LokyBackend with 2 concurrent workers.\n",
            "[Parallel(n_jobs=-1)]: Done  14 tasks      | elapsed:   10.6s\n",
            "[Parallel(n_jobs=-1)]: Done  68 tasks      | elapsed:   59.4s\n",
            "[Parallel(n_jobs=-1)]: Done 158 tasks      | elapsed:  1.9min\n",
            "[Parallel(n_jobs=-1)]: Done 284 tasks      | elapsed:  3.1min\n",
            "[Parallel(n_jobs=-1)]: Done 375 out of 375 | elapsed:  4.1min finished\n"
          ],
          "name": "stderr"
        },
        {
          "output_type": "execute_result",
          "data": {
            "text/plain": [
              "RandomizedSearchCV(cv=3, error_score=nan,\n",
              "                   estimator=RandomForestClassifier(bootstrap=True,\n",
              "                                                    ccp_alpha=0.0,\n",
              "                                                    class_weight=None,\n",
              "                                                    criterion='gini',\n",
              "                                                    max_depth=None,\n",
              "                                                    max_features='auto',\n",
              "                                                    max_leaf_nodes=None,\n",
              "                                                    max_samples=None,\n",
              "                                                    min_impurity_decrease=0.0,\n",
              "                                                    min_impurity_split=None,\n",
              "                                                    min_samples_leaf=1,\n",
              "                                                    min_samples_split=2,\n",
              "                                                    min_weight_fraction_leaf=0.0,\n",
              "                                                    n_estimators=100,\n",
              "                                                    n_jobs...\n",
              "                   param_distributions={'criterion': ['entropy', 'gini'],\n",
              "                                        'max_depth': [10, 94, 178, 262, 347,\n",
              "                                                      431, 515, 600, None],\n",
              "                                        'max_features': ['auto', 'sqrt', 'log2',\n",
              "                                                         None],\n",
              "                                        'min_samples_leaf': [4, 6, 8, 12],\n",
              "                                        'min_samples_split': [5, 7, 10, 14],\n",
              "                                        'n_estimators': [50, 85, 121, 157, 192,\n",
              "                                                         228, 264, 300]},\n",
              "                   pre_dispatch='2*n_jobs', random_state=101, refit=True,\n",
              "                   return_train_score=False, scoring=None, verbose=5)"
            ]
          },
          "metadata": {
            "tags": []
          },
          "execution_count": 14
        },
        {
          "output_type": "stream",
          "text": [
            "time: 4min 7s (started: 2021-05-11 10:49:44 +00:00)\n"
          ],
          "name": "stdout"
        }
      ]
    },
    {
      "cell_type": "code",
      "metadata": {
        "id": "_IRD-LdOVJQk",
        "colab": {
          "base_uri": "https://localhost:8080/"
        },
        "outputId": "d4c832bb-2f38-42e9-d05b-f1d61817e8f2"
      },
      "source": [
        "predictionforest = model.best_estimator_.predict(X_test)\n",
        "print(confusion_matrix(y_test,predictionforest))\n",
        "print(classification_report(y_test,predictionforest))\n",
        "acc = accuracy_score(y_test,y_pred)\n",
        "acc1 = accuracy_score(y_test,predictionforest)"
      ],
      "execution_count": null,
      "outputs": [
        {
          "output_type": "stream",
          "text": [
            "[[566   7]\n",
            " [ 23  71]]\n",
            "              precision    recall  f1-score   support\n",
            "\n",
            "         0.0       0.96      0.99      0.97       573\n",
            "         1.0       0.91      0.76      0.83        94\n",
            "\n",
            "    accuracy                           0.96       667\n",
            "   macro avg       0.94      0.87      0.90       667\n",
            "weighted avg       0.95      0.96      0.95       667\n",
            "\n",
            "time: 61.4 ms (started: 2021-05-11 10:53:51 +00:00)\n"
          ],
          "name": "stdout"
        }
      ]
    },
    {
      "cell_type": "code",
      "metadata": {
        "id": "Yd_O2ZLqYSYD",
        "colab": {
          "base_uri": "https://localhost:8080/"
        },
        "outputId": "7ef4cfeb-3bd5-4490-e2d2-fef9dd2f39dc"
      },
      "source": [
        "print(\"Base accuracy:\",acc*100,\"%\")\n",
        "print(\"Optimized accuracy:\",acc1*100,\"%\")\n",
        "print(\"Increase in accuracy:\",(acc1-acc)*100,\"%\")"
      ],
      "execution_count": null,
      "outputs": [
        {
          "output_type": "stream",
          "text": [
            "Base accuracy: 95.2023988005997 %\n",
            "Optimized accuracy: 95.50224887556223 %\n",
            "Increase in accuracy: 0.2998500749625266 %\n",
            "time: 2.53 ms (started: 2021-05-11 10:53:51 +00:00)\n"
          ],
          "name": "stdout"
        }
      ]
    },
    {
      "cell_type": "markdown",
      "metadata": {
        "id": "nZcGREfG-VYA"
      },
      "source": [
        "# Save Base & Proposed Model"
      ]
    },
    {
      "cell_type": "code",
      "metadata": {
        "id": "yBLdJJlFBFtm",
        "colab": {
          "base_uri": "https://localhost:8080/"
        },
        "outputId": "c89350b5-fc13-45c1-8efb-36e88707fa33"
      },
      "source": [
        "#ngesave model\n",
        "runtime = time.strftime(\"%d-%m-%Y %H:%M:%S\")\n",
        "\n",
        "pkl_filename = \"/content/drive/MyDrive/TubesAI_folder/Model_Orange/orange_model_\" + runtime + \".pkl\"\n",
        "with open(pkl_filename, 'wb') as file:\n",
        "  pickle.dump(model, file)\n",
        "\n",
        "base_filename = \"/content/drive/MyDrive/TubesAI_folder/Model_Orange/orange_base_\" + runtime + \".pkl\"\n",
        "with open(base_filename, 'wb') as file:\n",
        "  pickle.dump(classifier, file)\n",
        "\n",
        "with open(\"/content/drive/MyDrive/TubesAI_folder/Model_Orange/log_\" + runtime + \".txt\",'a') as file:\n",
        "  L = [\"base accuracy = \"+str(acc*100)+\"%\\n\",\n",
        "       \"opt accuracy = \"+str(acc1*100)+\"%\\n\",\n",
        "       \"Increase in accuracy:\"+str((acc1-acc)*100)+\"%\\n\",\n",
        "       str(model.best_estimator_.get_params())]\n",
        "  file.writelines(L)"
      ],
      "execution_count": null,
      "outputs": [
        {
          "output_type": "stream",
          "text": [
            "time: 76.7 ms (started: 2021-05-11 10:53:51 +00:00)\n"
          ],
          "name": "stdout"
        }
      ]
    },
    {
      "cell_type": "code",
      "metadata": {
        "id": "14c62RTE4oLh",
        "colab": {
          "base_uri": "https://localhost:8080/"
        },
        "outputId": "eb33cbeb-ec7f-4916-b1e6-b0df41a143ac"
      },
      "source": [
        "model.best_estimator_.get_params()"
      ],
      "execution_count": null,
      "outputs": [
        {
          "output_type": "execute_result",
          "data": {
            "text/plain": [
              "{'bootstrap': True,\n",
              " 'ccp_alpha': 0.0,\n",
              " 'class_weight': None,\n",
              " 'criterion': 'gini',\n",
              " 'max_depth': 10,\n",
              " 'max_features': 'sqrt',\n",
              " 'max_leaf_nodes': None,\n",
              " 'max_samples': None,\n",
              " 'min_impurity_decrease': 0.0,\n",
              " 'min_impurity_split': None,\n",
              " 'min_samples_leaf': 4,\n",
              " 'min_samples_split': 14,\n",
              " 'min_weight_fraction_leaf': 0.0,\n",
              " 'n_estimators': 264,\n",
              " 'n_jobs': None,\n",
              " 'oob_score': False,\n",
              " 'random_state': None,\n",
              " 'verbose': 0,\n",
              " 'warm_start': False}"
            ]
          },
          "metadata": {
            "tags": []
          },
          "execution_count": 18
        },
        {
          "output_type": "stream",
          "text": [
            "time: 8.99 ms (started: 2021-05-11 10:53:51 +00:00)\n"
          ],
          "name": "stdout"
        }
      ]
    },
    {
      "cell_type": "markdown",
      "metadata": {
        "id": "70oLCALd11CN"
      },
      "source": [
        "# Evaluation"
      ]
    },
    {
      "cell_type": "code",
      "metadata": {
        "id": "PswBYjSRrRt8",
        "colab": {
          "base_uri": "https://localhost:8080/"
        },
        "outputId": "06922764-b681-4288-f32f-9e37b2b6be77"
      },
      "source": [
        "infile = open('/content/drive/MyDrive/TubesAI_folder/Model_Orange/orange_model_'+runtime+'.pkl','rb')\n",
        "evalmodel = pickle.load(infile)\n",
        "infile.close()\n",
        "\n",
        "evalmodel.best_estimator_.get_params()"
      ],
      "execution_count": null,
      "outputs": [
        {
          "output_type": "execute_result",
          "data": {
            "text/plain": [
              "{'bootstrap': True,\n",
              " 'ccp_alpha': 0.0,\n",
              " 'class_weight': None,\n",
              " 'criterion': 'gini',\n",
              " 'max_depth': 10,\n",
              " 'max_features': 'sqrt',\n",
              " 'max_leaf_nodes': None,\n",
              " 'max_samples': None,\n",
              " 'min_impurity_decrease': 0.0,\n",
              " 'min_impurity_split': None,\n",
              " 'min_samples_leaf': 4,\n",
              " 'min_samples_split': 14,\n",
              " 'min_weight_fraction_leaf': 0.0,\n",
              " 'n_estimators': 264,\n",
              " 'n_jobs': None,\n",
              " 'oob_score': False,\n",
              " 'random_state': None,\n",
              " 'verbose': 0,\n",
              " 'warm_start': False}"
            ]
          },
          "metadata": {
            "tags": []
          },
          "execution_count": 19
        },
        {
          "output_type": "stream",
          "text": [
            "time: 33.4 ms (started: 2021-05-11 10:53:51 +00:00)\n"
          ],
          "name": "stdout"
        }
      ]
    },
    {
      "cell_type": "code",
      "metadata": {
        "colab": {
          "base_uri": "https://localhost:8080/"
        },
        "id": "uZoEazEQ2HFs",
        "outputId": "4813569c-05fc-40b2-8849-377f6b5c8d28"
      },
      "source": [
        "from sklearn.metrics import precision_score,recall_score,f1_score\n",
        "\n",
        "y_eval = evalmodel.best_estimator_.predict(X_test)\n",
        "\n",
        "acceval = accuracy_score(y_test,y_eval)*100\n",
        "preciseval = precision_score(y_test,y_eval)*100\n",
        "recalleval = recall_score(y_test,y_eval)*100\n",
        "f1eval = f1_score(y_test,y_eval)*100\n",
        "\n",
        "print(\"EVALUATION OF PROPOSED MODEL:\\n\")\n",
        "\n",
        "print(\"Summary:\")\n",
        "print(classification_report(y_test,y_eval))\n",
        "\n",
        "print(\"Confusion matrix:\")\n",
        "print(str(confusion_matrix(y_test,y_eval))+\"\\n\")\n",
        "\n",
        "print(\"Accuracy:\")\n",
        "print(str(acceval)+\"%\\n\")\n",
        "\n",
        "print(\"Precision:\")\n",
        "print(str(preciseval)+\"%\\n\")\n",
        "\n",
        "print(\"Recall:\")\n",
        "print(str(recalleval)+\"%\\n\")\n",
        "\n",
        "print(\"F1 Score:\")\n",
        "print(str(f1eval)+\"%\\n\")"
      ],
      "execution_count": null,
      "outputs": [
        {
          "output_type": "stream",
          "text": [
            "EVALUATION OF PROPOSED MODEL:\n",
            "\n",
            "Summary:\n",
            "              precision    recall  f1-score   support\n",
            "\n",
            "         0.0       0.96      0.99      0.97       573\n",
            "         1.0       0.91      0.76      0.83        94\n",
            "\n",
            "    accuracy                           0.96       667\n",
            "   macro avg       0.94      0.87      0.90       667\n",
            "weighted avg       0.95      0.96      0.95       667\n",
            "\n",
            "Confusion matrix:\n",
            "[[566   7]\n",
            " [ 23  71]]\n",
            "\n",
            "Accuracy:\n",
            "95.50224887556223%\n",
            "\n",
            "Precision:\n",
            "91.02564102564102%\n",
            "\n",
            "Recall:\n",
            "75.53191489361703%\n",
            "\n",
            "F1 Score:\n",
            "82.55813953488371%\n",
            "\n",
            "time: 93 ms (started: 2021-05-11 10:53:51 +00:00)\n"
          ],
          "name": "stdout"
        }
      ]
    },
    {
      "cell_type": "code",
      "metadata": {
        "colab": {
          "base_uri": "https://localhost:8080/"
        },
        "id": "_Fwifdd-5ZY6",
        "outputId": "79614b1b-1214-4343-b2c8-89174642910b"
      },
      "source": [
        "accpred = accuracy_score(y_test,y_pred)*100\n",
        "precispred = precision_score(y_test,y_pred)*100\n",
        "recallpred = recall_score(y_test,y_pred)*100\n",
        "f1pred = f1_score(y_test,y_pred)*100\n",
        "\n",
        "print(\"EVALUATION OF BASE MODEL:\\n\")\n",
        "\n",
        "print(\"Summary:\")\n",
        "print(classification_report(y_test,y_pred))\n",
        "\n",
        "print(\"Confusion matrix:\")\n",
        "print(str(confusion_matrix(y_test,y_pred))+\"\\n\")\n",
        "\n",
        "print(\"Accuracy:\")\n",
        "print(str(accpred)+\"%\\n\")\n",
        "\n",
        "print(\"Precision:\")\n",
        "print(str(precispred)+\"%\\n\")\n",
        "\n",
        "print(\"Recall:\")\n",
        "print(str(recallpred)+\"%\\n\")\n",
        "\n",
        "print(\"F1 Score:\")\n",
        "print(str(f1pred)+\"%\\n\")"
      ],
      "execution_count": null,
      "outputs": [
        {
          "output_type": "stream",
          "text": [
            "EVALUATION OF BASE MODEL:\n",
            "\n",
            "Summary:\n",
            "              precision    recall  f1-score   support\n",
            "\n",
            "         0.0       0.96      0.99      0.97       573\n",
            "         1.0       0.91      0.73      0.81        94\n",
            "\n",
            "    accuracy                           0.95       667\n",
            "   macro avg       0.93      0.86      0.89       667\n",
            "weighted avg       0.95      0.95      0.95       667\n",
            "\n",
            "Confusion matrix:\n",
            "[[566   7]\n",
            " [ 25  69]]\n",
            "\n",
            "Accuracy:\n",
            "95.2023988005997%\n",
            "\n",
            "Precision:\n",
            "90.78947368421053%\n",
            "\n",
            "Recall:\n",
            "73.40425531914893%\n",
            "\n",
            "F1 Score:\n",
            "81.17647058823529%\n",
            "\n",
            "time: 35.8 ms (started: 2021-05-11 10:53:51 +00:00)\n"
          ],
          "name": "stdout"
        }
      ]
    },
    {
      "cell_type": "code",
      "metadata": {
        "id": "dBOHy57WM-nL"
      },
      "source": [
        ""
      ],
      "execution_count": null,
      "outputs": []
    }
  ]
}