{
  "nbformat": 4,
  "nbformat_minor": 0,
  "metadata": {
    "colab": {
      "name": "ML_Kaggle_preprocessed.ipynb",
      "provenance": [],
      "collapsed_sections": [],
      "include_colab_link": true
    },
    "kernelspec": {
      "display_name": "Python 3",
      "name": "python3"
    },
    "language_info": {
      "name": "python"
    }
  },
  "cells": [
    {
      "cell_type": "markdown",
      "metadata": {
        "id": "view-in-github",
        "colab_type": "text"
      },
      "source": [
        "<a href=\"https://colab.research.google.com/github/ditarnnt/Telecom-Predic-Churn/blob/main/ML_Kaggle_preprocessed.ipynb\" target=\"_parent\"><img src=\"https://colab.research.google.com/assets/colab-badge.svg\" alt=\"Open In Colab\"/></a>"
      ]
    },
    {
      "cell_type": "markdown",
      "metadata": {
        "id": "vT0bRFbKZIqN"
      },
      "source": [
        "# Starting Steps"
      ]
    },
    {
      "cell_type": "markdown",
      "metadata": {
        "id": "Ziohp5dXzrG_"
      },
      "source": [
        "Training: Run all\n",
        "\n",
        "Evaluating: Run dari awal sampai feature selection, lalu run 'Evaluation'"
      ]
    },
    {
      "cell_type": "code",
      "metadata": {
        "colab": {
          "base_uri": "https://localhost:8080/"
        },
        "id": "cosn8pBr7Bkk",
        "outputId": "de6ac473-5b74-4c48-80b5-88cfa8a0a46c"
      },
      "source": [
        "from google.colab import drive\n",
        "import pandas as pd #pandas\n",
        "import numpy as np #numpy\n",
        "import re\n",
        "from sklearn.preprocessing import LabelEncoder, OneHotEncoder #encoding data kategorikal\n",
        "from sklearn.preprocessing import StandardScaler #standardization\n",
        "from sklearn.model_selection import train_test_split #train test split\n",
        "from sklearn.ensemble import RandomForestClassifier\n",
        "import pickle\n",
        "import time\n",
        "\n",
        "!pip install ipython-autotime\n",
        "%load_ext autotime\n",
        "\n",
        "rand_state = 101 #hyperparameter search argument\n",
        "niter = 125 #hyperparameter search argument\n",
        "kfold = 3 #hyperparameter search argument"
      ],
      "execution_count": null,
      "outputs": [
        {
          "output_type": "stream",
          "text": [
            "Requirement already satisfied: ipython-autotime in /usr/local/lib/python3.7/dist-packages (0.3.1)\n",
            "Requirement already satisfied: ipython in /usr/local/lib/python3.7/dist-packages (from ipython-autotime) (5.5.0)\n",
            "Requirement already satisfied: pygments in /usr/local/lib/python3.7/dist-packages (from ipython->ipython-autotime) (2.6.1)\n",
            "Requirement already satisfied: setuptools>=18.5 in /usr/local/lib/python3.7/dist-packages (from ipython->ipython-autotime) (56.1.0)\n",
            "Requirement already satisfied: pexpect; sys_platform != \"win32\" in /usr/local/lib/python3.7/dist-packages (from ipython->ipython-autotime) (4.8.0)\n",
            "Requirement already satisfied: pickleshare in /usr/local/lib/python3.7/dist-packages (from ipython->ipython-autotime) (0.7.5)\n",
            "Requirement already satisfied: prompt-toolkit<2.0.0,>=1.0.4 in /usr/local/lib/python3.7/dist-packages (from ipython->ipython-autotime) (1.0.18)\n",
            "Requirement already satisfied: simplegeneric>0.8 in /usr/local/lib/python3.7/dist-packages (from ipython->ipython-autotime) (0.8.1)\n",
            "Requirement already satisfied: decorator in /usr/local/lib/python3.7/dist-packages (from ipython->ipython-autotime) (4.4.2)\n",
            "Requirement already satisfied: traitlets>=4.2 in /usr/local/lib/python3.7/dist-packages (from ipython->ipython-autotime) (5.0.5)\n",
            "Requirement already satisfied: ptyprocess>=0.5 in /usr/local/lib/python3.7/dist-packages (from pexpect; sys_platform != \"win32\"->ipython->ipython-autotime) (0.7.0)\n",
            "Requirement already satisfied: six>=1.9.0 in /usr/local/lib/python3.7/dist-packages (from prompt-toolkit<2.0.0,>=1.0.4->ipython->ipython-autotime) (1.15.0)\n",
            "Requirement already satisfied: wcwidth in /usr/local/lib/python3.7/dist-packages (from prompt-toolkit<2.0.0,>=1.0.4->ipython->ipython-autotime) (0.2.5)\n",
            "Requirement already satisfied: ipython-genutils in /usr/local/lib/python3.7/dist-packages (from traitlets>=4.2->ipython->ipython-autotime) (0.2.0)\n",
            "The autotime extension is already loaded. To reload it, use:\n",
            "  %reload_ext autotime\n",
            "time: 2.55 s (started: 2021-05-11 10:48:52 +00:00)\n"
          ],
          "name": "stdout"
        }
      ]
    },
    {
      "cell_type": "code",
      "metadata": {
        "colab": {
          "base_uri": "https://localhost:8080/"
        },
        "id": "PF86d8Rl-rXT",
        "outputId": "dd46d313-933f-4963-95b9-07c432519721"
      },
      "source": [
        "drive.mount('/content/drive')\n",
        "dataset = pd.read_csv('/content/drive/MyDrive/TubesAI_folder/Dataset/df_preprocessed.csv')  \n",
        "print (dataset)"
      ],
      "execution_count": null,
      "outputs": [
        {
          "output_type": "stream",
          "text": [
            "Mounted at /content/drive\n",
            "         rev_Mean     mou_Mean  totmrc_Mean  ...  creditcd  kid6_10  churn\n",
            "0       23.997500   219.250000      22.5000  ...       1.0      0.0    1.0\n",
            "1       16.990000    10.250000      16.9900  ...       1.0      0.0    1.0\n",
            "2       55.230000   570.500000      71.9800  ...       1.0      0.0    0.0\n",
            "3       31.662500    25.500000      29.9900  ...       1.0      0.0    0.0\n",
            "4      212.515000  1971.500000      84.9900  ...       1.0      1.0    0.0\n",
            "...           ...          ...          ...  ...       ...      ...    ...\n",
            "30646   49.362500   187.750000      40.0725  ...       1.0      0.0    1.0\n",
            "30647   47.490000     0.000000      49.9900  ...       1.0      0.0    1.0\n",
            "30648   41.840000   351.000000      30.0000  ...       1.0      1.0    0.0\n",
            "30649   38.340000   319.500000      30.0000  ...       1.0      0.0    1.0\n",
            "30650   31.923333    63.333333      16.9900  ...       1.0      0.0    0.0\n",
            "\n",
            "[30651 rows x 89 columns]\n",
            "time: 29.5 s (started: 2021-05-11 10:48:55 +00:00)\n"
          ],
          "name": "stdout"
        }
      ]
    },
    {
      "cell_type": "code",
      "metadata": {
        "colab": {
          "base_uri": "https://localhost:8080/"
        },
        "id": "8lqSmN6aonTh",
        "outputId": "1e61dd54-3adc-4799-cb0e-65bf48d0b318"
      },
      "source": [
        "def select_features(df,selected_features):\n",
        "  '''\n",
        "  Fungsi untuk memilih fitur pada dataset.\n",
        "  Menggunakan RegEx untuk seleksi fitur yang di-encode secara OneHot Encoding.\n",
        "  Ketentuan seleksi fitur OneHotEncoding: Fitur harus punya prefix yang sesuai dengan nama fitur.\n",
        "  Argumen:\n",
        "  df - dataset yang akan diseleksi fitur-fiturnya\n",
        "  selected_features - list berisi fitur-fitur yang akan dipilih\n",
        "  Output:\n",
        "  df_out - dataset yang berisi fitur-fitur pada selected_features.\n",
        "  '''\n",
        "  df_out = pd.DataFrame(index=df.index.tolist())\n",
        "  cols = []\n",
        "  for feature in selected_features:\n",
        "    r = re.compile(feature) # Read Note\n",
        "    cols = cols + list(filter(r.match,df.columns.tolist()))\n",
        "  df_out = df[cols]\n",
        "  return df_out"
      ],
      "execution_count": null,
      "outputs": [
        {
          "output_type": "stream",
          "text": [
            "time: 4.34 ms (started: 2021-05-11 10:49:24 +00:00)\n"
          ],
          "name": "stdout"
        }
      ]
    },
    {
      "cell_type": "markdown",
      "metadata": {
        "id": "l83B3OSWa3nT"
      },
      "source": [
        " 0.028748    49 months \n",
        "\n",
        " 0.024216    76 eqpdays\n",
        " \n",
        " 0.007888    10 change_mou\n",
        " \n",
        " 0.00755     67 hnd_price\n",
        " \n",
        " 0.00579     81 hnd_webcap\n",
        " \n",
        " 0.005635     3 totmrc_Mean\n",
        " \n",
        " 0.005348     2 mou_Mean\n",
        " \n",
        " 0.004054    61 avg3mou\n",
        " \n",
        " 0.003853    62 avg3qty\n",
        " \n",
        " 0.002906    55 adjrev\n",
        " \n",
        " 0.002769    54 totrev\n",
        " \n",
        " 0.002671    52 totcalls\n",
        " \n",
        " 0.002524    57 adjqty\n",
        " \n",
        " 0.002145    11 change_rev"
      ]
    },
    {
      "cell_type": "code",
      "metadata": {
        "colab": {
          "base_uri": "https://localhost:8080/"
        },
        "id": "wWCU4n3y_CL9",
        "outputId": "e99ef093-6381-40c1-b315-4eb680ce3f60"
      },
      "source": [
        "y = dataset['churn']\n",
        "X = dataset.drop(['churn'], axis = 1)"
      ],
      "execution_count": null,
      "outputs": [
        {
          "output_type": "stream",
          "text": [
            "time: 11.1 ms (started: 2021-05-11 10:49:24 +00:00)\n"
          ],
          "name": "stdout"
        }
      ]
    },
    {
      "cell_type": "code",
      "metadata": {
        "colab": {
          "base_uri": "https://localhost:8080/"
        },
        "id": "5GPolfVKJHax",
        "outputId": "5f2c9229-048c-459b-e02c-db6a2d000bf7"
      },
      "source": [
        "print(f'X: {X.shape}')"
      ],
      "execution_count": null,
      "outputs": [
        {
          "output_type": "stream",
          "text": [
            "X: (30651, 88)\n",
            "time: 1 ms (started: 2021-05-11 10:49:24 +00:00)\n"
          ],
          "name": "stdout"
        }
      ]
    },
    {
      "cell_type": "code",
      "metadata": {
        "colab": {
          "base_uri": "https://localhost:8080/"
        },
        "id": "mDI-1cba_CVj",
        "outputId": "83b2f023-ec42-433c-a367-60cedfd2db96"
      },
      "source": [
        "X_train , X_test, y_train, y_test = train_test_split(X, y , test_size = 0.200 , random_state = rand_state)"
      ],
      "execution_count": null,
      "outputs": [
        {
          "output_type": "stream",
          "text": [
            "time: 36.5 ms (started: 2021-05-11 10:49:24 +00:00)\n"
          ],
          "name": "stdout"
        }
      ]
    },
    {
      "cell_type": "code",
      "metadata": {
        "colab": {
          "base_uri": "https://localhost:8080/"
        },
        "id": "Szkbdw-Y_Cli",
        "outputId": "edebc52e-0c93-4ea8-a6e9-8ee12b638c92"
      },
      "source": [
        "print(f'X_train: {X_train.shape}')\n",
        "print(f'y_train: {y_train.shape}')\n",
        "print(f'X_test: {X_test.shape}')\n",
        "print(f'y_test: {y_test.shape}')"
      ],
      "execution_count": null,
      "outputs": [
        {
          "output_type": "stream",
          "text": [
            "X_train: (24520, 88)\n",
            "y_train: (24520,)\n",
            "X_test: (6131, 88)\n",
            "y_test: (6131,)\n",
            "time: 4.65 ms (started: 2021-05-11 10:49:24 +00:00)\n"
          ],
          "name": "stdout"
        }
      ]
    },
    {
      "cell_type": "code",
      "metadata": {
        "colab": {
          "base_uri": "https://localhost:8080/"
        },
        "id": "etEmFMiXkb-J",
        "outputId": "19ee5b80-a2a7-4bf5-fdcc-d542521a2a50"
      },
      "source": [
        "y_train = y_train.astype(np.int)\n",
        "y_test = y_test.astype(np.int)"
      ],
      "execution_count": null,
      "outputs": [
        {
          "output_type": "stream",
          "text": [
            "time: 2.61 ms (started: 2021-05-11 10:49:24 +00:00)\n"
          ],
          "name": "stdout"
        }
      ]
    },
    {
      "cell_type": "markdown",
      "metadata": {
        "id": "Xc2QCluaZQYR"
      },
      "source": [
        "# Base Accuracy"
      ]
    },
    {
      "cell_type": "code",
      "metadata": {
        "colab": {
          "base_uri": "https://localhost:8080/"
        },
        "id": "CyF24hrfJphq",
        "outputId": "badd8d4a-98bb-4fac-ed37-c753b4c43361"
      },
      "source": [
        "classifier = RandomForestClassifier(random_state = rand_state)\n",
        "classifier.fit(X_train, y_train)\n",
        "y_pred = classifier.predict(X_test)"
      ],
      "execution_count": null,
      "outputs": [
        {
          "output_type": "stream",
          "text": [
            "time: 13.6 s (started: 2021-05-11 10:49:24 +00:00)\n"
          ],
          "name": "stdout"
        }
      ]
    },
    {
      "cell_type": "code",
      "metadata": {
        "colab": {
          "base_uri": "https://localhost:8080/"
        },
        "id": "-JIGrOzf09X_",
        "outputId": "13bc2e11-f1f1-4a25-eb41-b9d1d4d3a215"
      },
      "source": [
        "from sklearn.metrics import classification_report, confusion_matrix, accuracy_score\n",
        "print (classification_report(y_test, y_pred))\n",
        "print (confusion_matrix(y_test, y_pred))\n",
        "print (accuracy_score(y_test, y_pred))"
      ],
      "execution_count": null,
      "outputs": [
        {
          "output_type": "stream",
          "text": [
            "              precision    recall  f1-score   support\n",
            "\n",
            "           0       0.61      0.67      0.64      3119\n",
            "           1       0.62      0.56      0.59      3012\n",
            "\n",
            "    accuracy                           0.62      6131\n",
            "   macro avg       0.62      0.62      0.62      6131\n",
            "weighted avg       0.62      0.62      0.62      6131\n",
            "\n",
            "[[2087 1032]\n",
            " [1313 1699]]\n",
            "0.6175175338443973\n",
            "time: 31.7 ms (started: 2021-05-11 10:49:38 +00:00)\n"
          ],
          "name": "stdout"
        }
      ]
    },
    {
      "cell_type": "markdown",
      "metadata": {
        "id": "BsfgBBC9ZUEp"
      },
      "source": [
        "# Proposed Model: Feature Selection"
      ]
    },
    {
      "cell_type": "code",
      "metadata": {
        "colab": {
          "base_uri": "https://localhost:8080/"
        },
        "id": "yZILRUUMqZ54",
        "outputId": "dce004ef-9ee7-4bec-bf16-d0a664fcaa0c"
      },
      "source": [
        "'''\n",
        "selected_features = ['months', 'eqpdays', 'change_mou', 'hnd_price', 'hnd_webcap', 'totmrc_Mean',\n",
        "                     'moun_Mean', 'avg3mou', 'avg3qty', 'adjrev', 'totrev', 'totcalls', 'adjtqy', 'changerev',\n",
        "                     'lor', 'asl_flag','ovrrev_Mean','vceovr_Mean','ovrmou_Mean','mou_opkv_Mean','mou_cvce_Mean',\n",
        "                     'custcare_Mean','mou_peav_Mean','mouiwylisv_Mean','iwylis_vce_Mean','totmou','avg6qty','adjmou',\n",
        "                     'opk_vce_Mean','avg6mou','peak_vce_Mean','comp_vce_Mean','complete_Mean','cc_mou_Mean',\n",
        "                     'attempt_Mean','plcd_vce_Mean','ccrndmou_Mean','refurb_news','models','ouowylisv_Mean',\n",
        "                     'owylis_vce_Mean','uniqsubs','unan_vce_Mean','avgqty','phones','roam_Mean','threeway_Mean',\n",
        "                     'income''kid0_2', 'churn']\n",
        "'''\n",
        "\n",
        "selected_features = ['months', 'eqpdays', 'change_mou', 'hnd_price', 'hnd_webcap', 'totmrc_Mean',\n",
        "                     'moun_Mean', 'avg3mou', 'avg3qty', 'adjrev','totrev','totcalls','adjtqy','change_rev','churn']"
      ],
      "execution_count": null,
      "outputs": [
        {
          "output_type": "stream",
          "text": [
            "time: 2.98 ms (started: 2021-05-11 10:49:38 +00:00)\n"
          ],
          "name": "stdout"
        }
      ]
    },
    {
      "cell_type": "code",
      "metadata": {
        "colab": {
          "base_uri": "https://localhost:8080/"
        },
        "id": "11MIs_6L0va4",
        "outputId": "18d61ec1-4b0c-4e2d-f1ef-bbea856bf209"
      },
      "source": [
        "df_out = select_features(dataset, selected_features)\n",
        "y = df_out['churn']\n",
        "X = df_out.drop(['churn'], axis = 1)\n",
        "X_train , X_test, y_train, y_test = train_test_split(X, y , test_size = 0.200 , random_state = rand_state)"
      ],
      "execution_count": null,
      "outputs": [
        {
          "output_type": "stream",
          "text": [
            "time: 19.7 ms (started: 2021-05-11 10:49:38 +00:00)\n"
          ],
          "name": "stdout"
        }
      ]
    },
    {
      "cell_type": "markdown",
      "metadata": {
        "id": "1lwp0PUbYi3z"
      },
      "source": [
        "# Proposed Model: Hyperparameter Search"
      ]
    },
    {
      "cell_type": "code",
      "metadata": {
        "colab": {
          "base_uri": "https://localhost:8080/"
        },
        "id": "uCmdoeBCYksL",
        "outputId": "be70924d-c57d-4bc9-a675-14832e5d8d3e"
      },
      "source": [
        "from sklearn.model_selection import RandomizedSearchCV\n",
        "from sklearn.model_selection import cross_val_score\n",
        "\n",
        "random_search = {'criterion': ['entropy', 'gini'],\n",
        "               'max_depth': list(np.linspace(10, 600, 8, dtype = int)) + [None],\n",
        "               'max_features': ['auto', 'sqrt','log2', None],\n",
        "               'min_samples_leaf': [4, 6, 8, 12],\n",
        "               'min_samples_split': [5, 7, 10, 14],\n",
        "               'n_estimators': list(np.linspace(50, 300, 8, dtype = int))}\n",
        "\n",
        "clf = RandomForestClassifier()\n",
        "model = RandomizedSearchCV(estimator = clf, param_distributions = random_search, n_iter = niter, \n",
        "                               cv = kfold, verbose= 5, random_state= rand_state, n_jobs = -1)\n",
        "model.fit(X_train,y_train) "
      ],
      "execution_count": null,
      "outputs": [
        {
          "output_type": "stream",
          "text": [
            "Fitting 3 folds for each of 125 candidates, totalling 375 fits\n"
          ],
          "name": "stdout"
        },
        {
          "output_type": "stream",
          "text": [
            "[Parallel(n_jobs=-1)]: Using backend LokyBackend with 2 concurrent workers.\n",
            "[Parallel(n_jobs=-1)]: Done  14 tasks      | elapsed:  1.9min\n",
            "[Parallel(n_jobs=-1)]: Done  68 tasks      | elapsed: 14.3min\n",
            "[Parallel(n_jobs=-1)]: Done 158 tasks      | elapsed: 26.8min\n",
            "[Parallel(n_jobs=-1)]: Done 284 tasks      | elapsed: 44.4min\n",
            "[Parallel(n_jobs=-1)]: Done 375 out of 375 | elapsed: 57.3min finished\n"
          ],
          "name": "stderr"
        },
        {
          "output_type": "execute_result",
          "data": {
            "text/plain": [
              "RandomizedSearchCV(cv=3, error_score=nan,\n",
              "                   estimator=RandomForestClassifier(bootstrap=True,\n",
              "                                                    ccp_alpha=0.0,\n",
              "                                                    class_weight=None,\n",
              "                                                    criterion='gini',\n",
              "                                                    max_depth=None,\n",
              "                                                    max_features='auto',\n",
              "                                                    max_leaf_nodes=None,\n",
              "                                                    max_samples=None,\n",
              "                                                    min_impurity_decrease=0.0,\n",
              "                                                    min_impurity_split=None,\n",
              "                                                    min_samples_leaf=1,\n",
              "                                                    min_samples_split=2,\n",
              "                                                    min_weight_fraction_leaf=0.0,\n",
              "                                                    n_estimators=100,\n",
              "                                                    n_jobs...\n",
              "                   param_distributions={'criterion': ['entropy', 'gini'],\n",
              "                                        'max_depth': [10, 94, 178, 262, 347,\n",
              "                                                      431, 515, 600, None],\n",
              "                                        'max_features': ['auto', 'sqrt', 'log2',\n",
              "                                                         None],\n",
              "                                        'min_samples_leaf': [4, 6, 8, 12],\n",
              "                                        'min_samples_split': [5, 7, 10, 14],\n",
              "                                        'n_estimators': [50, 85, 121, 157, 192,\n",
              "                                                         228, 264, 300]},\n",
              "                   pre_dispatch='2*n_jobs', random_state=101, refit=True,\n",
              "                   return_train_score=False, scoring=None, verbose=5)"
            ]
          },
          "metadata": {
            "tags": []
          },
          "execution_count": 15
        },
        {
          "output_type": "stream",
          "text": [
            "time: 57min 24s (started: 2021-05-11 10:49:38 +00:00)\n"
          ],
          "name": "stdout"
        }
      ]
    },
    {
      "cell_type": "code",
      "metadata": {
        "colab": {
          "base_uri": "https://localhost:8080/"
        },
        "id": "B2Aj2AcZG9vY",
        "outputId": "9200e467-a1cf-4c86-efd2-e95a2d53d6f1"
      },
      "source": [
        "#manualclf = RandomForestClassifier(criterion='gini',\n",
        "#                                   max_depth=10,\n",
        "#                                   max_features='sqrt',\n",
        "#                                   min_samples_leaf=12,\n",
        "#                                   min_samples_split=7,\n",
        "#                                   n_estimators=300)\n",
        "#manualclf.fit(X_train,y_train) "
      ],
      "execution_count": null,
      "outputs": [
        {
          "output_type": "execute_result",
          "data": {
            "text/plain": [
              "RandomForestClassifier(bootstrap=True, ccp_alpha=0.0, class_weight=None,\n",
              "                       criterion='gini', max_depth=10, max_features='sqrt',\n",
              "                       max_leaf_nodes=None, max_samples=None,\n",
              "                       min_impurity_decrease=0.0, min_impurity_split=None,\n",
              "                       min_samples_leaf=12, min_samples_split=7,\n",
              "                       min_weight_fraction_leaf=0.0, n_estimators=300,\n",
              "                       n_jobs=None, oob_score=False, random_state=None,\n",
              "                       verbose=0, warm_start=False)"
            ]
          },
          "metadata": {
            "tags": []
          },
          "execution_count": 16
        },
        {
          "output_type": "stream",
          "text": [
            "time: 12.6 s (started: 2021-05-11 11:47:03 +00:00)\n"
          ],
          "name": "stdout"
        }
      ]
    },
    {
      "cell_type": "code",
      "metadata": {
        "colab": {
          "base_uri": "https://localhost:8080/"
        },
        "id": "bDzipHe3YnWP",
        "outputId": "0fe05ad7-44a2-40eb-8cc4-2fcb751dc35e"
      },
      "source": [
        "predictionforest = model.best_estimator_.predict(X_test)\n",
        "print(confusion_matrix(y_test,predictionforest))\n",
        "print(classification_report(y_test,predictionforest))\n",
        "acc = accuracy_score(y_test,y_pred)\n",
        "acc1 = accuracy_score(y_test,predictionforest)\n",
        "\n",
        "#predictionforest = manualclf.predict(X_test)\n",
        "#print(confusion_matrix(y_test,predictionforest))\n",
        "#print(classification_report(y_test,predictionforest))\n",
        "#acc = accuracy_score(y_test,y_pred)\n",
        "#acc1 = accuracy_score(y_test,predictionforest)"
      ],
      "execution_count": null,
      "outputs": [
        {
          "output_type": "stream",
          "text": [
            "[[2042 1077]\n",
            " [1250 1762]]\n",
            "              precision    recall  f1-score   support\n",
            "\n",
            "         0.0       0.62      0.65      0.64      3119\n",
            "         1.0       0.62      0.58      0.60      3012\n",
            "\n",
            "    accuracy                           0.62      6131\n",
            "   macro avg       0.62      0.62      0.62      6131\n",
            "weighted avg       0.62      0.62      0.62      6131\n",
            "\n",
            "time: 158 ms (started: 2021-05-11 11:49:48 +00:00)\n"
          ],
          "name": "stdout"
        }
      ]
    },
    {
      "cell_type": "code",
      "metadata": {
        "colab": {
          "base_uri": "https://localhost:8080/"
        },
        "id": "cXjkrB4sYpsh",
        "outputId": "36986efe-ff6c-4a1d-8352-b23d57778aa7"
      },
      "source": [
        "print(\"Base accuracy:\",acc*100,\"%\")\n",
        "print(\"Optimized accuracy:\",acc1*100,\"%\")\n",
        "print(\"Increase in accuracy:\",(acc1-acc)*100,\"%\")"
      ],
      "execution_count": null,
      "outputs": [
        {
          "output_type": "stream",
          "text": [
            "Base accuracy: 61.75175338443973 %\n",
            "Optimized accuracy: 62.04534333713912 %\n",
            "Increase in accuracy: 0.29358995269939125 %\n",
            "time: 7.66 ms (started: 2021-05-11 11:49:53 +00:00)\n"
          ],
          "name": "stdout"
        }
      ]
    },
    {
      "cell_type": "markdown",
      "metadata": {
        "id": "zbVdHvob-Ndk"
      },
      "source": [
        "# Save Base & Proposed Model"
      ]
    },
    {
      "cell_type": "code",
      "metadata": {
        "colab": {
          "base_uri": "https://localhost:8080/"
        },
        "id": "mL9CzEqJasT7",
        "outputId": "f0d51009-06e0-47f9-bff0-47c333c6a85d"
      },
      "source": [
        "#ngesave model\n",
        "\n",
        "runtime = time.strftime(\"%d-%m-%Y %H:%M:%S\")\n",
        "\n",
        "base_filename = \"/content/drive/MyDrive/TubesAI_folder/Model_df/df_base_\" + runtime + \".pkl\"\n",
        "with open(base_filename, 'wb') as file:\n",
        "  pickle.dump(classifier, file)\n",
        "\n",
        "pkl_filename = \"/content/drive/MyDrive/TubesAI_folder/Model_df/df_model_\" + runtime + \".pkl\"\n",
        "with open(pkl_filename, 'wb') as file:\n",
        "  pickle.dump(manualclf, file)\n",
        "\n",
        "with open(\"/content/drive/MyDrive/TubesAI_folder/Model_df/log_\" + runtime + \".txt\",'a') as file:\n",
        "  L = [\"base accuracy = \"+str(acc*100)+\"%\\n\",\n",
        "  \"opt accuracy = \"+str(acc1*100)+\"%\\n\",\n",
        "  \"Increase in accuracy:\"+str((acc1-acc)*100)+\"%\\n\",\n",
        "  str(model.best_estimator_.get_params())]\n",
        "  file.writelines(L)  "
      ],
      "execution_count": null,
      "outputs": [
        {
          "output_type": "stream",
          "text": [
            "time: 287 ms (started: 2021-05-11 11:50:00 +00:00)\n"
          ],
          "name": "stdout"
        }
      ]
    },
    {
      "cell_type": "code",
      "metadata": {
        "colab": {
          "base_uri": "https://localhost:8080/"
        },
        "id": "1BhnoyGH_llf",
        "outputId": "112c9398-3856-4780-f56e-b08ea7f64f63"
      },
      "source": [
        "model.best_estimator_.get_params()"
      ],
      "execution_count": null,
      "outputs": [
        {
          "output_type": "execute_result",
          "data": {
            "text/plain": [
              "{'bootstrap': True,\n",
              " 'ccp_alpha': 0.0,\n",
              " 'class_weight': None,\n",
              " 'criterion': 'gini',\n",
              " 'max_depth': 10,\n",
              " 'max_features': 'auto',\n",
              " 'max_leaf_nodes': None,\n",
              " 'max_samples': None,\n",
              " 'min_impurity_decrease': 0.0,\n",
              " 'min_impurity_split': None,\n",
              " 'min_samples_leaf': 8,\n",
              " 'min_samples_split': 14,\n",
              " 'min_weight_fraction_leaf': 0.0,\n",
              " 'n_estimators': 157,\n",
              " 'n_jobs': None,\n",
              " 'oob_score': False,\n",
              " 'random_state': None,\n",
              " 'verbose': 0,\n",
              " 'warm_start': False}"
            ]
          },
          "metadata": {
            "tags": []
          },
          "execution_count": 27
        },
        {
          "output_type": "stream",
          "text": [
            "time: 6.99 ms (started: 2021-05-11 11:50:09 +00:00)\n"
          ],
          "name": "stdout"
        }
      ]
    },
    {
      "cell_type": "markdown",
      "metadata": {
        "id": "PR1MtI8O0neC"
      },
      "source": [
        "# Evaluation"
      ]
    },
    {
      "cell_type": "code",
      "metadata": {
        "colab": {
          "base_uri": "https://localhost:8080/"
        },
        "id": "twcdwwOK0oSp",
        "outputId": "8b43e5bb-9e81-4ffe-a120-841447aca63b"
      },
      "source": [
        "infile = open('/content/drive/MyDrive/TubesAI_folder/Model_df/df_model_'+runtime+'.pkl','rb')\n",
        "evalmodel = pickle.load(infile)\n",
        "infile.close()\n",
        "\n",
        "evalmodel.get_params()"
      ],
      "execution_count": null,
      "outputs": [
        {
          "output_type": "execute_result",
          "data": {
            "text/plain": [
              "{'bootstrap': True,\n",
              " 'ccp_alpha': 0.0,\n",
              " 'class_weight': None,\n",
              " 'criterion': 'gini',\n",
              " 'max_depth': 10,\n",
              " 'max_features': 'sqrt',\n",
              " 'max_leaf_nodes': None,\n",
              " 'max_samples': None,\n",
              " 'min_impurity_decrease': 0.0,\n",
              " 'min_impurity_split': None,\n",
              " 'min_samples_leaf': 12,\n",
              " 'min_samples_split': 7,\n",
              " 'min_weight_fraction_leaf': 0.0,\n",
              " 'n_estimators': 300,\n",
              " 'n_jobs': None,\n",
              " 'oob_score': False,\n",
              " 'random_state': None,\n",
              " 'verbose': 0,\n",
              " 'warm_start': False}"
            ]
          },
          "metadata": {
            "tags": []
          },
          "execution_count": 28
        },
        {
          "output_type": "stream",
          "text": [
            "time: 45.9 ms (started: 2021-05-11 11:50:14 +00:00)\n"
          ],
          "name": "stdout"
        }
      ]
    },
    {
      "cell_type": "code",
      "metadata": {
        "colab": {
          "base_uri": "https://localhost:8080/"
        },
        "id": "0Z9EfLya05R3",
        "outputId": "653d71c6-0dca-4185-8eab-765134db3469"
      },
      "source": [
        "from sklearn.metrics import precision_score,recall_score,f1_score\n",
        "\n",
        "y_eval = evalmodel.predict(X_test)\n",
        "\n",
        "acceval = accuracy_score(y_test,y_eval)*100\n",
        "preciseval = precision_score(y_test,y_eval)*100\n",
        "recalleval = recall_score(y_test,y_eval)*100\n",
        "f1eval = f1_score(y_test,y_eval)*100\n",
        "\n",
        "print(\"EVALUATION OF PROPOSED MODEL:\\n\")\n",
        "\n",
        "print(\"Summary:\")\n",
        "print(classification_report(y_test,y_eval))\n",
        "\n",
        "print(\"Confusion matrix:\")\n",
        "print(str(confusion_matrix(y_test,y_eval))+\"\\n\")\n",
        "\n",
        "print(\"Accuracy:\")\n",
        "print(str(acceval)+\"%\\n\")\n",
        "\n",
        "print(\"Precision:\")\n",
        "print(str(preciseval)+\"%\\n\")\n",
        "\n",
        "print(\"Recall:\")\n",
        "print(str(recalleval)+\"%\\n\")\n",
        "\n",
        "print(\"F1 Score:\")\n",
        "print(str(f1eval)+\"%\\n\")"
      ],
      "execution_count": null,
      "outputs": [
        {
          "output_type": "stream",
          "text": [
            "EVALUATION OF PROPOSED MODEL:\n",
            "\n",
            "Summary:\n",
            "              precision    recall  f1-score   support\n",
            "\n",
            "         0.0       0.62      0.65      0.64      3119\n",
            "         1.0       0.62      0.59      0.60      3012\n",
            "\n",
            "    accuracy                           0.62      6131\n",
            "   macro avg       0.62      0.62      0.62      6131\n",
            "weighted avg       0.62      0.62      0.62      6131\n",
            "\n",
            "Confusion matrix:\n",
            "[[2030 1089]\n",
            " [1240 1772]]\n",
            "\n",
            "Accuracy:\n",
            "62.01272223128365%\n",
            "\n",
            "Precision:\n",
            "61.93638587906326%\n",
            "\n",
            "Recall:\n",
            "58.831341301460824%\n",
            "\n",
            "F1 Score:\n",
            "60.3439468755321%\n",
            "\n",
            "time: 279 ms (started: 2021-05-11 11:50:25 +00:00)\n"
          ],
          "name": "stdout"
        }
      ]
    },
    {
      "cell_type": "code",
      "metadata": {
        "colab": {
          "base_uri": "https://localhost:8080/"
        },
        "id": "eceMVClFKRVM",
        "outputId": "497a8e58-cc61-4ca1-a859-e6c6a9784572"
      },
      "source": [
        "accpred = accuracy_score(y_test,y_pred)*100\n",
        "precispred = precision_score(y_test,y_pred)*100\n",
        "recallpred = recall_score(y_test,y_pred)*100\n",
        "f1pred = f1_score(y_test,y_pred)*100\n",
        "\n",
        "print(\"EVALUATION OF BASE MODEL:\\n\")\n",
        "\n",
        "print(\"Summary:\")\n",
        "print(classification_report(y_test,y_pred))\n",
        "\n",
        "print(\"Confusion matrix:\")\n",
        "print(str(confusion_matrix(y_test,y_pred))+\"\\n\")\n",
        "\n",
        "print(\"Accuracy:\")\n",
        "print(str(accpred)+\"%\\n\")\n",
        "\n",
        "print(\"Precision:\")\n",
        "print(str(precispred)+\"%\\n\")\n",
        "\n",
        "print(\"Recall:\")\n",
        "print(str(recallpred)+\"%\\n\")\n",
        "\n",
        "print(\"F1 Score:\")\n",
        "print(str(f1pred)+\"%\\n\")"
      ],
      "execution_count": null,
      "outputs": [
        {
          "output_type": "stream",
          "text": [
            "EVALUATION OF BASE MODEL:\n",
            "\n",
            "Summary:\n",
            "              precision    recall  f1-score   support\n",
            "\n",
            "         0.0       0.61      0.67      0.64      3119\n",
            "         1.0       0.62      0.56      0.59      3012\n",
            "\n",
            "    accuracy                           0.62      6131\n",
            "   macro avg       0.62      0.62      0.62      6131\n",
            "weighted avg       0.62      0.62      0.62      6131\n",
            "\n",
            "Confusion matrix:\n",
            "[[2087 1032]\n",
            " [1313 1699]]\n",
            "\n",
            "Accuracy:\n",
            "61.75175338443973%\n",
            "\n",
            "Precision:\n",
            "62.21164408641523%\n",
            "\n",
            "Recall:\n",
            "56.407702523240374%\n",
            "\n",
            "F1 Score:\n",
            "59.167682395960306%\n",
            "\n",
            "time: 46.1 ms (started: 2021-05-11 11:50:28 +00:00)\n"
          ],
          "name": "stdout"
        }
      ]
    },
    {
      "cell_type": "code",
      "metadata": {
        "id": "Eni3CTaqM4m_"
      },
      "source": [
        ""
      ],
      "execution_count": null,
      "outputs": []
    }
  ]
}